{
 "cells": [
  {
   "cell_type": "code",
   "execution_count": 2,
   "metadata": {},
   "outputs": [],
   "source": [
    "import pandas as pd\n",
    "import numpy as np\n",
    "from nltk.tokenize import word_tokenize\n",
    "import nltk.stem.porter as porter\n",
    "from collections import Counter"
   ]
  },
  {
   "cell_type": "code",
   "execution_count": 3,
   "metadata": {},
   "outputs": [],
   "source": [
    "data = pd.read_csv('tf-df.csv')"
   ]
  },
  {
   "cell_type": "code",
   "execution_count": 4,
   "metadata": {},
   "outputs": [],
   "source": [
    "doc_headers = [column for column in data.columns if 'Document' in column]"
   ]
  },
  {
   "cell_type": "code",
   "execution_count": 5,
   "metadata": {},
   "outputs": [],
   "source": [
    "def ntc_normalize(tf, df):\n",
    "    vecs = tf.copy()\n",
    "    norm_doc_freq = np.log(len(vecs.columns)/df)\n",
    "    # tf.df\n",
    "    vecs = vecs.multiply(norm_doc_freq, axis='rows')\n",
    "    # Cosine normalization:\n",
    "    sum_sq = np.sum(vecs**2, axis=0)\n",
    "    vecs = vecs/sum_sq\n",
    "    return vecs"
   ]
  },
  {
   "cell_type": "code",
   "execution_count": 6,
   "metadata": {},
   "outputs": [],
   "source": [
    "def nnc_normalize(tf, df):\n",
    "    vecs = tf.copy()\n",
    "    norm_doc_freq = df\n",
    "    # tf.df\n",
    "    vecs = vecs.multiply(norm_doc_freq, axis='rows')\n",
    "    # Cosine normalization:\n",
    "    sum_sq = np.sum(vecs**2, axis=0)\n",
    "    vecs = vecs/sum_sq\n",
    "    return vecs"
   ]
  },
  {
   "cell_type": "code",
   "execution_count": 7,
   "metadata": {},
   "outputs": [],
   "source": [
    "def get_stemmed_tokenized_query(query):\n",
    "    stemmer = porter.PorterStemmer(mode='ORIGINAL_ALGORITHM')\n",
    "    #get tokenized words from query\n",
    "    words = word_tokenize(query)\n",
    "    #get stemmed words from query\n",
    "    words = list(map(stemmer.stem, words))\n",
    "    return words"
   ]
  },
  {
   "cell_type": "code",
   "execution_count": 8,
   "metadata": {},
   "outputs": [],
   "source": [
    "# word_series is the series of words in our data, i.e data['word']\n",
    "def get_query_tf(query, word_series):\n",
    "    tf = word_series.copy()\n",
    "    words = get_stemmed_tokenized_query(query)\n",
    "    #count the occurences\n",
    "    freq = Counter(words)\n",
    "    #set the value as the count if it exists, else 0\n",
    "    tf = tf.transform(lambda word: freq[word] if word in freq else 0)\n",
    "    return tf"
   ]
  },
  {
   "cell_type": "code",
   "execution_count": 9,
   "metadata": {},
   "outputs": [],
   "source": [
    "query_tf = get_query_tf(\"I enjoy the fall content\", data['word'])"
   ]
  },
  {
   "cell_type": "code",
   "execution_count": 10,
   "metadata": {},
   "outputs": [],
   "source": [
    "norm_query = nnc_normalize(query_tf, data['df'])"
   ]
  },
  {
   "cell_type": "code",
   "execution_count": 11,
   "metadata": {},
   "outputs": [],
   "source": [
    "norm_vecs = ntc_normalize(data[doc_headers], data['df'])"
   ]
  },
  {
   "cell_type": "code",
   "execution_count": 12,
   "metadata": {},
   "outputs": [],
   "source": [
    "def get_similarity_scores(norm_docs, norm_query):\n",
    "    cosine_prod = norm_vecs.multiply(norm_query, axis=0)\n",
    "    return cosine_prod.sum(axis=0)"
   ]
  },
  {
   "cell_type": "code",
   "execution_count": 13,
   "metadata": {},
   "outputs": [],
   "source": [
    "scores = get_similarity_scores(norm_vecs, norm_query)"
   ]
  },
  {
   "cell_type": "code",
   "execution_count": 14,
   "metadata": {},
   "outputs": [
    {
     "data": {
      "text/plain": [
       "'Document 16'"
      ]
     },
     "execution_count": 14,
     "metadata": {},
     "output_type": "execute_result"
    }
   ],
   "source": [
    "#Index of maximum, which is our most similar document\n",
    "scores.idxmax()"
   ]
  },
  {
   "cell_type": "code",
   "execution_count": 15,
   "metadata": {},
   "outputs": [
    {
     "data": {
      "text/plain": [
       "Document 1     0.000089\n",
       "Document 2     0.000006\n",
       "Document 3     0.000000\n",
       "Document 4     0.000000\n",
       "Document 5     0.000000\n",
       "Document 6     0.000042\n",
       "Document 7     0.000029\n",
       "Document 8     0.000012\n",
       "Document 9     0.000136\n",
       "Document 10    0.000054\n",
       "Document 11    0.000189\n",
       "Document 12    0.000094\n",
       "Document 13    0.000102\n",
       "Document 14    0.000000\n",
       "Document 15    0.000000\n",
       "Document 16    0.000220\n",
       "Document 17    0.000072\n",
       "Document 18    0.000058\n",
       "Document 19    0.000057\n",
       "Document 20    0.000081\n",
       "Document 21    0.000097\n",
       "Document 22    0.000073\n",
       "Document 23    0.000075\n",
       "dtype: float64"
      ]
     },
     "execution_count": 15,
     "metadata": {},
     "output_type": "execute_result"
    }
   ],
   "source": [
    "scores"
   ]
  },
  {
   "cell_type": "code",
   "execution_count": 122,
   "metadata": {},
   "outputs": [],
   "source": [
    "titles_previews = pd.read_csv('title_preview.csv')"
   ]
  },
  {
   "cell_type": "code",
   "execution_count": 17,
   "metadata": {},
   "outputs": [],
   "source": [
    "titles_previews = titles_previews.fillna(\"\")"
   ]
  },
  {
   "cell_type": "code",
   "execution_count": 18,
   "metadata": {},
   "outputs": [],
   "source": [
    "titles_previews['title'] = titles_previews['title'].apply(lambda word: word.lower())"
   ]
  },
  {
   "cell_type": "code",
   "execution_count": 19,
   "metadata": {},
   "outputs": [],
   "source": [
    "def get_score(string, words):\n",
    "    intersection = [word for word in words if word in string]\n",
    "    return 0.25 if len(intersection)>0 else 0"
   ]
  },
  {
   "cell_type": "code",
   "execution_count": 20,
   "metadata": {},
   "outputs": [],
   "source": [
    "def get_score_by_title(scores, titles_previews, query_words):\n",
    "    modif = scores.copy()\n",
    "    titles = titles_previews['title'].copy()\n",
    "    titles.index = modif.index\n",
    "    titles = titles.transform(lambda string: get_score(string, words))\n",
    "    return titles+modif"
   ]
  },
  {
   "cell_type": "code",
   "execution_count": 21,
   "metadata": {},
   "outputs": [],
   "source": [
    "query_words = get_stemmed_tokenized_query(\"I enjoy the fall content\")"
   ]
  },
  {
   "cell_type": "code",
   "execution_count": 22,
   "metadata": {},
   "outputs": [
    {
     "data": {
      "text/plain": [
       "['i', 'enjoi', 'the', 'fall', 'content']"
      ]
     },
     "execution_count": 22,
     "metadata": {},
     "output_type": "execute_result"
    }
   ],
   "source": [
    "query_words"
   ]
  },
  {
   "cell_type": "code",
   "execution_count": 120,
   "metadata": {},
   "outputs": [
    {
     "data": {
      "text/plain": [
       "Document 1     0.000089\n",
       "Document 2     0.000006\n",
       "Document 6     0.000042\n",
       "Document 7     0.000029\n",
       "Document 8     0.000012\n",
       "Document 9     0.000136\n",
       "Document 10    0.000054\n",
       "Document 11    0.000189\n",
       "Document 12    0.000094\n",
       "Document 13    0.000102\n",
       "Document 16    0.000220\n",
       "Document 17    0.000072\n",
       "Document 18    0.000058\n",
       "Document 19    0.000057\n",
       "Document 20    0.000081\n",
       "Document 21    0.000097\n",
       "Document 22    0.000073\n",
       "Document 23    0.000075\n",
       "dtype: float64"
      ]
     },
     "execution_count": 120,
     "metadata": {},
     "output_type": "execute_result"
    }
   ],
   "source": [
    "scores[scores.values > 0]"
   ]
  },
  {
   "cell_type": "code",
   "execution_count": 139,
   "metadata": {},
   "outputs": [],
   "source": [
    "tp = titles_previews.copy()"
   ]
  },
  {
   "cell_type": "code",
   "execution_count": 140,
   "metadata": {},
   "outputs": [
    {
     "ename": "ValueError",
     "evalue": "Length of values does not match length of index",
     "output_type": "error",
     "traceback": [
      "\u001b[0;31m---------------------------------------------------------------------------\u001b[0m",
      "\u001b[0;31mValueError\u001b[0m                                Traceback (most recent call last)",
      "\u001b[0;32m<ipython-input-140-1ca9f8894e84>\u001b[0m in \u001b[0;36m<module>\u001b[0;34m()\u001b[0m\n\u001b[0;32m----> 1\u001b[0;31m \u001b[0mtp\u001b[0m\u001b[0;34m[\u001b[0m\u001b[0;34m'scores'\u001b[0m\u001b[0;34m]\u001b[0m \u001b[0;34m=\u001b[0m \u001b[0mscores\u001b[0m\u001b[0;34m.\u001b[0m\u001b[0mvalues\u001b[0m\u001b[0;34m\u001b[0m\u001b[0m\n\u001b[0m",
      "\u001b[0;32m~/anaconda3/lib/python3.6/site-packages/pandas/core/frame.py\u001b[0m in \u001b[0;36m__setitem__\u001b[0;34m(self, key, value)\u001b[0m\n\u001b[1;32m   2517\u001b[0m         \u001b[0;32melse\u001b[0m\u001b[0;34m:\u001b[0m\u001b[0;34m\u001b[0m\u001b[0m\n\u001b[1;32m   2518\u001b[0m             \u001b[0;31m# set column\u001b[0m\u001b[0;34m\u001b[0m\u001b[0;34m\u001b[0m\u001b[0m\n\u001b[0;32m-> 2519\u001b[0;31m             \u001b[0mself\u001b[0m\u001b[0;34m.\u001b[0m\u001b[0m_set_item\u001b[0m\u001b[0;34m(\u001b[0m\u001b[0mkey\u001b[0m\u001b[0;34m,\u001b[0m \u001b[0mvalue\u001b[0m\u001b[0;34m)\u001b[0m\u001b[0;34m\u001b[0m\u001b[0m\n\u001b[0m\u001b[1;32m   2520\u001b[0m \u001b[0;34m\u001b[0m\u001b[0m\n\u001b[1;32m   2521\u001b[0m     \u001b[0;32mdef\u001b[0m \u001b[0m_setitem_slice\u001b[0m\u001b[0;34m(\u001b[0m\u001b[0mself\u001b[0m\u001b[0;34m,\u001b[0m \u001b[0mkey\u001b[0m\u001b[0;34m,\u001b[0m \u001b[0mvalue\u001b[0m\u001b[0;34m)\u001b[0m\u001b[0;34m:\u001b[0m\u001b[0;34m\u001b[0m\u001b[0m\n",
      "\u001b[0;32m~/anaconda3/lib/python3.6/site-packages/pandas/core/frame.py\u001b[0m in \u001b[0;36m_set_item\u001b[0;34m(self, key, value)\u001b[0m\n\u001b[1;32m   2583\u001b[0m \u001b[0;34m\u001b[0m\u001b[0m\n\u001b[1;32m   2584\u001b[0m         \u001b[0mself\u001b[0m\u001b[0;34m.\u001b[0m\u001b[0m_ensure_valid_index\u001b[0m\u001b[0;34m(\u001b[0m\u001b[0mvalue\u001b[0m\u001b[0;34m)\u001b[0m\u001b[0;34m\u001b[0m\u001b[0m\n\u001b[0;32m-> 2585\u001b[0;31m         \u001b[0mvalue\u001b[0m \u001b[0;34m=\u001b[0m \u001b[0mself\u001b[0m\u001b[0;34m.\u001b[0m\u001b[0m_sanitize_column\u001b[0m\u001b[0;34m(\u001b[0m\u001b[0mkey\u001b[0m\u001b[0;34m,\u001b[0m \u001b[0mvalue\u001b[0m\u001b[0;34m)\u001b[0m\u001b[0;34m\u001b[0m\u001b[0m\n\u001b[0m\u001b[1;32m   2586\u001b[0m         \u001b[0mNDFrame\u001b[0m\u001b[0;34m.\u001b[0m\u001b[0m_set_item\u001b[0m\u001b[0;34m(\u001b[0m\u001b[0mself\u001b[0m\u001b[0;34m,\u001b[0m \u001b[0mkey\u001b[0m\u001b[0;34m,\u001b[0m \u001b[0mvalue\u001b[0m\u001b[0;34m)\u001b[0m\u001b[0;34m\u001b[0m\u001b[0m\n\u001b[1;32m   2587\u001b[0m \u001b[0;34m\u001b[0m\u001b[0m\n",
      "\u001b[0;32m~/anaconda3/lib/python3.6/site-packages/pandas/core/frame.py\u001b[0m in \u001b[0;36m_sanitize_column\u001b[0;34m(self, key, value, broadcast)\u001b[0m\n\u001b[1;32m   2758\u001b[0m \u001b[0;34m\u001b[0m\u001b[0m\n\u001b[1;32m   2759\u001b[0m             \u001b[0;31m# turn me into an ndarray\u001b[0m\u001b[0;34m\u001b[0m\u001b[0;34m\u001b[0m\u001b[0m\n\u001b[0;32m-> 2760\u001b[0;31m             \u001b[0mvalue\u001b[0m \u001b[0;34m=\u001b[0m \u001b[0m_sanitize_index\u001b[0m\u001b[0;34m(\u001b[0m\u001b[0mvalue\u001b[0m\u001b[0;34m,\u001b[0m \u001b[0mself\u001b[0m\u001b[0;34m.\u001b[0m\u001b[0mindex\u001b[0m\u001b[0;34m,\u001b[0m \u001b[0mcopy\u001b[0m\u001b[0;34m=\u001b[0m\u001b[0;32mFalse\u001b[0m\u001b[0;34m)\u001b[0m\u001b[0;34m\u001b[0m\u001b[0m\n\u001b[0m\u001b[1;32m   2761\u001b[0m             \u001b[0;32mif\u001b[0m \u001b[0;32mnot\u001b[0m \u001b[0misinstance\u001b[0m\u001b[0;34m(\u001b[0m\u001b[0mvalue\u001b[0m\u001b[0;34m,\u001b[0m \u001b[0;34m(\u001b[0m\u001b[0mnp\u001b[0m\u001b[0;34m.\u001b[0m\u001b[0mndarray\u001b[0m\u001b[0;34m,\u001b[0m \u001b[0mIndex\u001b[0m\u001b[0;34m)\u001b[0m\u001b[0;34m)\u001b[0m\u001b[0;34m:\u001b[0m\u001b[0;34m\u001b[0m\u001b[0m\n\u001b[1;32m   2762\u001b[0m                 \u001b[0;32mif\u001b[0m \u001b[0misinstance\u001b[0m\u001b[0;34m(\u001b[0m\u001b[0mvalue\u001b[0m\u001b[0;34m,\u001b[0m \u001b[0mlist\u001b[0m\u001b[0;34m)\u001b[0m \u001b[0;32mand\u001b[0m \u001b[0mlen\u001b[0m\u001b[0;34m(\u001b[0m\u001b[0mvalue\u001b[0m\u001b[0;34m)\u001b[0m \u001b[0;34m>\u001b[0m \u001b[0;36m0\u001b[0m\u001b[0;34m:\u001b[0m\u001b[0;34m\u001b[0m\u001b[0m\n",
      "\u001b[0;32m~/anaconda3/lib/python3.6/site-packages/pandas/core/series.py\u001b[0m in \u001b[0;36m_sanitize_index\u001b[0;34m(data, index, copy)\u001b[0m\n\u001b[1;32m   3119\u001b[0m \u001b[0;34m\u001b[0m\u001b[0m\n\u001b[1;32m   3120\u001b[0m     \u001b[0;32mif\u001b[0m \u001b[0mlen\u001b[0m\u001b[0;34m(\u001b[0m\u001b[0mdata\u001b[0m\u001b[0;34m)\u001b[0m \u001b[0;34m!=\u001b[0m \u001b[0mlen\u001b[0m\u001b[0;34m(\u001b[0m\u001b[0mindex\u001b[0m\u001b[0;34m)\u001b[0m\u001b[0;34m:\u001b[0m\u001b[0;34m\u001b[0m\u001b[0m\n\u001b[0;32m-> 3121\u001b[0;31m         \u001b[0;32mraise\u001b[0m \u001b[0mValueError\u001b[0m\u001b[0;34m(\u001b[0m\u001b[0;34m'Length of values does not match length of '\u001b[0m \u001b[0;34m'index'\u001b[0m\u001b[0;34m)\u001b[0m\u001b[0;34m\u001b[0m\u001b[0m\n\u001b[0m\u001b[1;32m   3122\u001b[0m \u001b[0;34m\u001b[0m\u001b[0m\n\u001b[1;32m   3123\u001b[0m     \u001b[0;32mif\u001b[0m \u001b[0misinstance\u001b[0m\u001b[0;34m(\u001b[0m\u001b[0mdata\u001b[0m\u001b[0;34m,\u001b[0m \u001b[0mPeriodIndex\u001b[0m\u001b[0;34m)\u001b[0m\u001b[0;34m:\u001b[0m\u001b[0;34m\u001b[0m\u001b[0m\n",
      "\u001b[0;31mValueError\u001b[0m: Length of values does not match length of index"
     ]
    }
   ],
   "source": [
    "tp['scores'] = scores.values"
   ]
  },
  {
   "cell_type": "code",
   "execution_count": 150,
   "metadata": {},
   "outputs": [],
   "source": [
    "tp.loc[np.arange(23), 'scores'] = scores.values"
   ]
  },
  {
   "cell_type": "code",
   "execution_count": 151,
   "metadata": {},
   "outputs": [
    {
     "data": {
      "text/html": [
       "<div>\n",
       "<style scoped>\n",
       "    .dataframe tbody tr th:only-of-type {\n",
       "        vertical-align: middle;\n",
       "    }\n",
       "\n",
       "    .dataframe tbody tr th {\n",
       "        vertical-align: top;\n",
       "    }\n",
       "\n",
       "    .dataframe thead th {\n",
       "        text-align: right;\n",
       "    }\n",
       "</style>\n",
       "<table border=\"1\" class=\"dataframe\">\n",
       "  <thead>\n",
       "    <tr style=\"text-align: right;\">\n",
       "      <th></th>\n",
       "      <th>Document</th>\n",
       "      <th>title</th>\n",
       "      <th>preview</th>\n",
       "      <th>url</th>\n",
       "      <th>scores</th>\n",
       "    </tr>\n",
       "  </thead>\n",
       "  <tbody>\n",
       "    <tr>\n",
       "      <th>0</th>\n",
       "      <td>Document 1</td>\n",
       "      <td>Freeman Moore - SMU Spring 2018</td>\n",
       "      <td>Spring 2018 Freeman L. Moore , PhD email : fmo...</td>\n",
       "      <td>https://s2.smu.edu/~fmoore/</td>\n",
       "      <td>0.000089</td>\n",
       "    </tr>\n",
       "    <tr>\n",
       "      <th>1</th>\n",
       "      <td>Document 2</td>\n",
       "      <td>SMU CSE 5337/7337 Spring 2018 Schedule</td>\n",
       "      <td>SMU CSE 5337/7337 2018 Preliminary Schedule Th...</td>\n",
       "      <td>https://s2.smu.edu/~fmoore/schedule.htm</td>\n",
       "      <td>0.000006</td>\n",
       "    </tr>\n",
       "    <tr>\n",
       "      <th>2</th>\n",
       "      <td>Document 3</td>\n",
       "      <td>SMU CSE 5/7337 Spring 2018 Textfiles</td>\n",
       "      <td>Textfiles for clustering golf 1 golf 2 golf 3 ...</td>\n",
       "      <td>https://s2.smu.edu/~fmoore/textfiles/index.html</td>\n",
       "      <td>0.000000</td>\n",
       "    </tr>\n",
       "    <tr>\n",
       "      <th>3</th>\n",
       "      <td>Document 4</td>\n",
       "      <td>SMU CSE 5/7337 Spring 2018 text files\"</td>\n",
       "      <td>additional text files to support query impleme...</td>\n",
       "      <td>https://s2.smu.edu/~fmoore/misc/text/index.php</td>\n",
       "      <td>0.000000</td>\n",
       "    </tr>\n",
       "    <tr>\n",
       "      <th>4</th>\n",
       "      <td>Document 5</td>\n",
       "      <td>CSE 7337 Spring 2018 distance students exam 1 ...</td>\n",
       "      <td>CSE 7337 Distance student exam 1 location ( in...</td>\n",
       "      <td>https://s2.smu.edu/~fmoore/misc/exam1.html</td>\n",
       "      <td>0.000000</td>\n",
       "    </tr>\n",
       "    <tr>\n",
       "      <th>5</th>\n",
       "      <td>Document 6</td>\n",
       "      <td>CSE 5337/7337 User-Agent</td>\n",
       "      <td>This is the user-agent information received va...</td>\n",
       "      <td>https://s2.smu.edu/~fmoore/misc/useragent.php</td>\n",
       "      <td>0.000042</td>\n",
       "    </tr>\n",
       "    <tr>\n",
       "      <th>6</th>\n",
       "      <td>Document 7</td>\n",
       "      <td>Levenshtein Distance demo</td>\n",
       "      <td>Levenshtein Distance calculator For example : ...</td>\n",
       "      <td>https://s2.smu.edu/~fmoore/misc/levenshtein.html</td>\n",
       "      <td>0.000029</td>\n",
       "    </tr>\n",
       "    <tr>\n",
       "      <th>7</th>\n",
       "      <td>Document 8</td>\n",
       "      <td>Porter Stemmer Online</td>\n",
       "      <td>Javascript Porter Stemmer Online Find out more...</td>\n",
       "      <td>https://s2.smu.edu/~fmoore/misc/porter_stemmer...</td>\n",
       "      <td>0.000012</td>\n",
       "    </tr>\n",
       "    <tr>\n",
       "      <th>8</th>\n",
       "      <td>Document 9</td>\n",
       "      <td>baseball5</td>\n",
       "      <td>Terence Mann : Ray , people will come Ray . Th...</td>\n",
       "      <td>https://s2.smu.edu/~fmoore/textfiles/baseball5...</td>\n",
       "      <td>0.000136</td>\n",
       "    </tr>\n",
       "    <tr>\n",
       "      <th>9</th>\n",
       "      <td>Document 10</td>\n",
       "      <td>baseball4</td>\n",
       "      <td>The oddsmakers at BetDSI Sportsbook have Ohtan...</td>\n",
       "      <td>https://s2.smu.edu/~fmoore/textfiles/baseball4...</td>\n",
       "      <td>0.000054</td>\n",
       "    </tr>\n",
       "    <tr>\n",
       "      <th>10</th>\n",
       "      <td>Document 11</td>\n",
       "      <td>baseball3</td>\n",
       "      <td>Season ticket sales for the Rangers are off af...</td>\n",
       "      <td>https://s2.smu.edu/~fmoore/textfiles/baseball3...</td>\n",
       "      <td>0.000189</td>\n",
       "    </tr>\n",
       "    <tr>\n",
       "      <th>11</th>\n",
       "      <td>Document 12</td>\n",
       "      <td>baseball2</td>\n",
       "      <td>It 's Opening Day , and for one day our team i...</td>\n",
       "      <td>https://s2.smu.edu/~fmoore/textfiles/baseball2...</td>\n",
       "      <td>0.000094</td>\n",
       "    </tr>\n",
       "    <tr>\n",
       "      <th>12</th>\n",
       "      <td>Document 13</td>\n",
       "      <td>baseball1</td>\n",
       "      <td>The Texas Rangers have to be at their most pre...</td>\n",
       "      <td>https://s2.smu.edu/~fmoore/textfiles/baseball1...</td>\n",
       "      <td>0.000102</td>\n",
       "    </tr>\n",
       "    <tr>\n",
       "      <th>13</th>\n",
       "      <td>Document 14</td>\n",
       "      <td>basketball5</td>\n",
       "      <td>Basketball is a limited-contact sport played o...</td>\n",
       "      <td>https://s2.smu.edu/~fmoore/textfiles/basketbal...</td>\n",
       "      <td>0.000000</td>\n",
       "    </tr>\n",
       "    <tr>\n",
       "      <th>14</th>\n",
       "      <td>Document 15</td>\n",
       "      <td>building2</td>\n",
       "      <td>buildingthree buildingtwo buildingone</td>\n",
       "      <td>https://s2.smu.edu/~fmoore/misc/text/building2...</td>\n",
       "      <td>0.000000</td>\n",
       "    </tr>\n",
       "    <tr>\n",
       "      <th>15</th>\n",
       "      <td>Document 16</td>\n",
       "      <td>building1</td>\n",
       "      <td>buildingone buildingtwo buildingthree</td>\n",
       "      <td>https://s2.smu.edu/~fmoore/misc/text/building1...</td>\n",
       "      <td>0.000220</td>\n",
       "    </tr>\n",
       "    <tr>\n",
       "      <th>16</th>\n",
       "      <td>Document 17</td>\n",
       "      <td>This is the magic file</td>\n",
       "      <td>Magic shows up here and in the title . brown b...</td>\n",
       "      <td>https://s2.smu.edu/~fmoore/misc/text/magictext...</td>\n",
       "      <td>0.000072</td>\n",
       "    </tr>\n",
       "    <tr>\n",
       "      <th>17</th>\n",
       "      <td>Document 18</td>\n",
       "      <td>Mockingbird part 5</td>\n",
       "      <td>Mockingbird part 5 Atticus does not want Jem a...</td>\n",
       "      <td>https://s2.smu.edu/~fmoore/misc/text/mockingbi...</td>\n",
       "      <td>0.000058</td>\n",
       "    </tr>\n",
       "    <tr>\n",
       "      <th>18</th>\n",
       "      <td>Document 19</td>\n",
       "      <td>Mockingbird part 4</td>\n",
       "      <td>Mockingbird part 4 The story takes place durin...</td>\n",
       "      <td>https://s2.smu.edu/~fmoore/misc/text/mockingbi...</td>\n",
       "      <td>0.000057</td>\n",
       "    </tr>\n",
       "    <tr>\n",
       "      <th>19</th>\n",
       "      <td>Document 20</td>\n",
       "      <td>Mockingbird part 3</td>\n",
       "      <td>Mockingbird part 3 Suddenly , Scout and Jem ha...</td>\n",
       "      <td>https://s2.smu.edu/~fmoore/misc/text/mockingbi...</td>\n",
       "      <td>0.000081</td>\n",
       "    </tr>\n",
       "    <tr>\n",
       "      <th>20</th>\n",
       "      <td>Document 21</td>\n",
       "      <td>Mockingbird part 2</td>\n",
       "      <td>Mockingbird part 2 The only neighbor who puzzl...</td>\n",
       "      <td>https://s2.smu.edu/~fmoore/misc/text/mockingbi...</td>\n",
       "      <td>0.000097</td>\n",
       "    </tr>\n",
       "    <tr>\n",
       "      <th>21</th>\n",
       "      <td>Document 22</td>\n",
       "      <td>Mockingbird novel part 1</td>\n",
       "      <td>Mockingbird part 1 To Kill a Mockingbird is pr...</td>\n",
       "      <td>https://s2.smu.edu/~fmoore/misc/text/mockingbi...</td>\n",
       "      <td>0.000073</td>\n",
       "    </tr>\n",
       "    <tr>\n",
       "      <th>22</th>\n",
       "      <td>Document 23</td>\n",
       "      <td>basketball4</td>\n",
       "      <td>The golden state warriors basketball team had ...</td>\n",
       "      <td>https://s2.smu.edu/~fmoore/textfiles/basketbal...</td>\n",
       "      <td>0.000075</td>\n",
       "    </tr>\n",
       "    <tr>\n",
       "      <th>23</th>\n",
       "      <td>Document 24</td>\n",
       "      <td>basketball3</td>\n",
       "      <td>After 24-win season , Mavs coach careful not t...</td>\n",
       "      <td>https://s2.smu.edu/~fmoore/textfiles/basketbal...</td>\n",
       "      <td>NaN</td>\n",
       "    </tr>\n",
       "    <tr>\n",
       "      <th>24</th>\n",
       "      <td>Document 25</td>\n",
       "      <td>basketball2</td>\n",
       "      <td>UTA fired a good man , and now they are lookin...</td>\n",
       "      <td>https://s2.smu.edu/~fmoore/textfiles/basketbal...</td>\n",
       "      <td>NaN</td>\n",
       "    </tr>\n",
       "    <tr>\n",
       "      <th>25</th>\n",
       "      <td>Document 26</td>\n",
       "      <td>basketball1</td>\n",
       "      <td>Under normal circumstances , the news that Dir...</td>\n",
       "      <td>https://s2.smu.edu/~fmoore/textfiles/basketbal...</td>\n",
       "      <td>NaN</td>\n",
       "    </tr>\n",
       "    <tr>\n",
       "      <th>26</th>\n",
       "      <td>Document 27</td>\n",
       "      <td>golf5</td>\n",
       "      <td>The resurgent Poulter will have that chance Su...</td>\n",
       "      <td>https://s2.smu.edu/~fmoore/textfiles/golf5.txt</td>\n",
       "      <td>NaN</td>\n",
       "    </tr>\n",
       "    <tr>\n",
       "      <th>27</th>\n",
       "      <td>Document 28</td>\n",
       "      <td>golf4</td>\n",
       "      <td>Kelly Kraft got a birdie , just not the one he...</td>\n",
       "      <td>https://s2.smu.edu/~fmoore/textfiles/golf4.txt</td>\n",
       "      <td>NaN</td>\n",
       "    </tr>\n",
       "    <tr>\n",
       "      <th>28</th>\n",
       "      <td>Document 29</td>\n",
       "      <td>golf3</td>\n",
       "      <td>Bryson DeChambeau shot a career best 7 under p...</td>\n",
       "      <td>https://s2.smu.edu/~fmoore/textfiles/golf3.txt</td>\n",
       "      <td>NaN</td>\n",
       "    </tr>\n",
       "    <tr>\n",
       "      <th>29</th>\n",
       "      <td>Document 30</td>\n",
       "      <td>golf2</td>\n",
       "      <td>Jay Haas nearly shot his age Friday to take th...</td>\n",
       "      <td>https://s2.smu.edu/~fmoore/textfiles/golf2.txt</td>\n",
       "      <td>NaN</td>\n",
       "    </tr>\n",
       "    <tr>\n",
       "      <th>30</th>\n",
       "      <td>Document 31</td>\n",
       "      <td>golf1</td>\n",
       "      <td>The champagne pop echoes you hear are from CBS...</td>\n",
       "      <td>https://s2.smu.edu/~fmoore/textfiles/golf1.txt</td>\n",
       "      <td>NaN</td>\n",
       "    </tr>\n",
       "  </tbody>\n",
       "</table>\n",
       "</div>"
      ],
      "text/plain": [
       "       Document                                              title  \\\n",
       "0    Document 1                    Freeman Moore - SMU Spring 2018   \n",
       "1    Document 2             SMU CSE 5337/7337 Spring 2018 Schedule   \n",
       "2    Document 3               SMU CSE 5/7337 Spring 2018 Textfiles   \n",
       "3    Document 4             SMU CSE 5/7337 Spring 2018 text files\"   \n",
       "4    Document 5  CSE 7337 Spring 2018 distance students exam 1 ...   \n",
       "5    Document 6                           CSE 5337/7337 User-Agent   \n",
       "6    Document 7                          Levenshtein Distance demo   \n",
       "7    Document 8                              Porter Stemmer Online   \n",
       "8    Document 9                                          baseball5   \n",
       "9   Document 10                                          baseball4   \n",
       "10  Document 11                                          baseball3   \n",
       "11  Document 12                                          baseball2   \n",
       "12  Document 13                                          baseball1   \n",
       "13  Document 14                                        basketball5   \n",
       "14  Document 15                                          building2   \n",
       "15  Document 16                                          building1   \n",
       "16  Document 17                             This is the magic file   \n",
       "17  Document 18                                 Mockingbird part 5   \n",
       "18  Document 19                                 Mockingbird part 4   \n",
       "19  Document 20                                 Mockingbird part 3   \n",
       "20  Document 21                                 Mockingbird part 2   \n",
       "21  Document 22                           Mockingbird novel part 1   \n",
       "22  Document 23                                        basketball4   \n",
       "23  Document 24                                        basketball3   \n",
       "24  Document 25                                        basketball2   \n",
       "25  Document 26                                        basketball1   \n",
       "26  Document 27                                              golf5   \n",
       "27  Document 28                                              golf4   \n",
       "28  Document 29                                              golf3   \n",
       "29  Document 30                                              golf2   \n",
       "30  Document 31                                              golf1   \n",
       "\n",
       "                                              preview  \\\n",
       "0   Spring 2018 Freeman L. Moore , PhD email : fmo...   \n",
       "1   SMU CSE 5337/7337 2018 Preliminary Schedule Th...   \n",
       "2   Textfiles for clustering golf 1 golf 2 golf 3 ...   \n",
       "3   additional text files to support query impleme...   \n",
       "4   CSE 7337 Distance student exam 1 location ( in...   \n",
       "5   This is the user-agent information received va...   \n",
       "6   Levenshtein Distance calculator For example : ...   \n",
       "7   Javascript Porter Stemmer Online Find out more...   \n",
       "8   Terence Mann : Ray , people will come Ray . Th...   \n",
       "9   The oddsmakers at BetDSI Sportsbook have Ohtan...   \n",
       "10  Season ticket sales for the Rangers are off af...   \n",
       "11  It 's Opening Day , and for one day our team i...   \n",
       "12  The Texas Rangers have to be at their most pre...   \n",
       "13  Basketball is a limited-contact sport played o...   \n",
       "14              buildingthree buildingtwo buildingone   \n",
       "15              buildingone buildingtwo buildingthree   \n",
       "16  Magic shows up here and in the title . brown b...   \n",
       "17  Mockingbird part 5 Atticus does not want Jem a...   \n",
       "18  Mockingbird part 4 The story takes place durin...   \n",
       "19  Mockingbird part 3 Suddenly , Scout and Jem ha...   \n",
       "20  Mockingbird part 2 The only neighbor who puzzl...   \n",
       "21  Mockingbird part 1 To Kill a Mockingbird is pr...   \n",
       "22  The golden state warriors basketball team had ...   \n",
       "23  After 24-win season , Mavs coach careful not t...   \n",
       "24  UTA fired a good man , and now they are lookin...   \n",
       "25  Under normal circumstances , the news that Dir...   \n",
       "26  The resurgent Poulter will have that chance Su...   \n",
       "27  Kelly Kraft got a birdie , just not the one he...   \n",
       "28  Bryson DeChambeau shot a career best 7 under p...   \n",
       "29  Jay Haas nearly shot his age Friday to take th...   \n",
       "30  The champagne pop echoes you hear are from CBS...   \n",
       "\n",
       "                                                  url    scores  \n",
       "0                         https://s2.smu.edu/~fmoore/  0.000089  \n",
       "1             https://s2.smu.edu/~fmoore/schedule.htm  0.000006  \n",
       "2     https://s2.smu.edu/~fmoore/textfiles/index.html  0.000000  \n",
       "3      https://s2.smu.edu/~fmoore/misc/text/index.php  0.000000  \n",
       "4          https://s2.smu.edu/~fmoore/misc/exam1.html  0.000000  \n",
       "5       https://s2.smu.edu/~fmoore/misc/useragent.php  0.000042  \n",
       "6    https://s2.smu.edu/~fmoore/misc/levenshtein.html  0.000029  \n",
       "7   https://s2.smu.edu/~fmoore/misc/porter_stemmer...  0.000012  \n",
       "8   https://s2.smu.edu/~fmoore/textfiles/baseball5...  0.000136  \n",
       "9   https://s2.smu.edu/~fmoore/textfiles/baseball4...  0.000054  \n",
       "10  https://s2.smu.edu/~fmoore/textfiles/baseball3...  0.000189  \n",
       "11  https://s2.smu.edu/~fmoore/textfiles/baseball2...  0.000094  \n",
       "12  https://s2.smu.edu/~fmoore/textfiles/baseball1...  0.000102  \n",
       "13  https://s2.smu.edu/~fmoore/textfiles/basketbal...  0.000000  \n",
       "14  https://s2.smu.edu/~fmoore/misc/text/building2...  0.000000  \n",
       "15  https://s2.smu.edu/~fmoore/misc/text/building1...  0.000220  \n",
       "16  https://s2.smu.edu/~fmoore/misc/text/magictext...  0.000072  \n",
       "17  https://s2.smu.edu/~fmoore/misc/text/mockingbi...  0.000058  \n",
       "18  https://s2.smu.edu/~fmoore/misc/text/mockingbi...  0.000057  \n",
       "19  https://s2.smu.edu/~fmoore/misc/text/mockingbi...  0.000081  \n",
       "20  https://s2.smu.edu/~fmoore/misc/text/mockingbi...  0.000097  \n",
       "21  https://s2.smu.edu/~fmoore/misc/text/mockingbi...  0.000073  \n",
       "22  https://s2.smu.edu/~fmoore/textfiles/basketbal...  0.000075  \n",
       "23  https://s2.smu.edu/~fmoore/textfiles/basketbal...       NaN  \n",
       "24  https://s2.smu.edu/~fmoore/textfiles/basketbal...       NaN  \n",
       "25  https://s2.smu.edu/~fmoore/textfiles/basketbal...       NaN  \n",
       "26     https://s2.smu.edu/~fmoore/textfiles/golf5.txt       NaN  \n",
       "27     https://s2.smu.edu/~fmoore/textfiles/golf4.txt       NaN  \n",
       "28     https://s2.smu.edu/~fmoore/textfiles/golf3.txt       NaN  \n",
       "29     https://s2.smu.edu/~fmoore/textfiles/golf2.txt       NaN  \n",
       "30     https://s2.smu.edu/~fmoore/textfiles/golf1.txt       NaN  "
      ]
     },
     "execution_count": 151,
     "metadata": {},
     "output_type": "execute_result"
    }
   ],
   "source": [
    "tp"
   ]
  }
 ],
 "metadata": {
  "kernelspec": {
   "display_name": "Python 3",
   "language": "python",
   "name": "python3"
  },
  "language_info": {
   "codemirror_mode": {
    "name": "ipython",
    "version": 3
   },
   "file_extension": ".py",
   "mimetype": "text/x-python",
   "name": "python",
   "nbconvert_exporter": "python",
   "pygments_lexer": "ipython3",
   "version": "3.6.4"
  }
 },
 "nbformat": 4,
 "nbformat_minor": 2
}
