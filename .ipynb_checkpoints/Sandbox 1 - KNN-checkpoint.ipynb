{
 "cells": [
  {
   "cell_type": "code",
   "execution_count": 1,
   "metadata": {},
   "outputs": [],
   "source": [
    "import pandas as pd"
   ]
  },
  {
   "cell_type": "code",
   "execution_count": 2,
   "metadata": {},
   "outputs": [],
   "source": [
    "df = pd.read_csv('tf-df.csv')"
   ]
  },
  {
   "cell_type": "code",
   "execution_count": 4,
   "metadata": {},
   "outputs": [
    {
     "data": {
      "text/html": [
       "<div>\n",
       "<style scoped>\n",
       "    .dataframe tbody tr th:only-of-type {\n",
       "        vertical-align: middle;\n",
       "    }\n",
       "\n",
       "    .dataframe tbody tr th {\n",
       "        vertical-align: top;\n",
       "    }\n",
       "\n",
       "    .dataframe thead th {\n",
       "        text-align: right;\n",
       "    }\n",
       "</style>\n",
       "<table border=\"1\" class=\"dataframe\">\n",
       "  <thead>\n",
       "    <tr style=\"text-align: right;\">\n",
       "      <th></th>\n",
       "      <th>word</th>\n",
       "      <th>Document 1</th>\n",
       "      <th>Document 2</th>\n",
       "      <th>Document 3</th>\n",
       "      <th>Document 4</th>\n",
       "      <th>Document 5</th>\n",
       "      <th>Document 6</th>\n",
       "      <th>Document 7</th>\n",
       "      <th>Document 8</th>\n",
       "      <th>Document 9</th>\n",
       "      <th>...</th>\n",
       "      <th>Document 15</th>\n",
       "      <th>Document 16</th>\n",
       "      <th>Document 17</th>\n",
       "      <th>Document 18</th>\n",
       "      <th>Document 19</th>\n",
       "      <th>Document 20</th>\n",
       "      <th>Document 21</th>\n",
       "      <th>Document 22</th>\n",
       "      <th>Document 23</th>\n",
       "      <th>df</th>\n",
       "    </tr>\n",
       "  </thead>\n",
       "  <tbody>\n",
       "    <tr>\n",
       "      <th>0</th>\n",
       "      <td>repres</td>\n",
       "      <td>1</td>\n",
       "      <td>0</td>\n",
       "      <td>0</td>\n",
       "      <td>0</td>\n",
       "      <td>0</td>\n",
       "      <td>0</td>\n",
       "      <td>0</td>\n",
       "      <td>0</td>\n",
       "      <td>0</td>\n",
       "      <td>...</td>\n",
       "      <td>0</td>\n",
       "      <td>1</td>\n",
       "      <td>0</td>\n",
       "      <td>0</td>\n",
       "      <td>0</td>\n",
       "      <td>0</td>\n",
       "      <td>0</td>\n",
       "      <td>0</td>\n",
       "      <td>0</td>\n",
       "      <td>2</td>\n",
       "    </tr>\n",
       "    <tr>\n",
       "      <th>1</th>\n",
       "      <td>who</td>\n",
       "      <td>1</td>\n",
       "      <td>0</td>\n",
       "      <td>0</td>\n",
       "      <td>0</td>\n",
       "      <td>0</td>\n",
       "      <td>0</td>\n",
       "      <td>0</td>\n",
       "      <td>0</td>\n",
       "      <td>0</td>\n",
       "      <td>...</td>\n",
       "      <td>0</td>\n",
       "      <td>6</td>\n",
       "      <td>1</td>\n",
       "      <td>0</td>\n",
       "      <td>0</td>\n",
       "      <td>0</td>\n",
       "      <td>1</td>\n",
       "      <td>0</td>\n",
       "      <td>0</td>\n",
       "      <td>5</td>\n",
       "    </tr>\n",
       "    <tr>\n",
       "      <th>2</th>\n",
       "      <td>ar</td>\n",
       "      <td>1</td>\n",
       "      <td>0</td>\n",
       "      <td>0</td>\n",
       "      <td>0</td>\n",
       "      <td>0</td>\n",
       "      <td>1</td>\n",
       "      <td>1</td>\n",
       "      <td>1</td>\n",
       "      <td>0</td>\n",
       "      <td>...</td>\n",
       "      <td>0</td>\n",
       "      <td>0</td>\n",
       "      <td>1</td>\n",
       "      <td>1</td>\n",
       "      <td>2</td>\n",
       "      <td>0</td>\n",
       "      <td>2</td>\n",
       "      <td>0</td>\n",
       "      <td>1</td>\n",
       "      <td>10</td>\n",
       "    </tr>\n",
       "    <tr>\n",
       "      <th>3</th>\n",
       "      <td>fall</td>\n",
       "      <td>1</td>\n",
       "      <td>0</td>\n",
       "      <td>0</td>\n",
       "      <td>0</td>\n",
       "      <td>0</td>\n",
       "      <td>0</td>\n",
       "      <td>0</td>\n",
       "      <td>0</td>\n",
       "      <td>0</td>\n",
       "      <td>...</td>\n",
       "      <td>0</td>\n",
       "      <td>0</td>\n",
       "      <td>0</td>\n",
       "      <td>0</td>\n",
       "      <td>0</td>\n",
       "      <td>0</td>\n",
       "      <td>0</td>\n",
       "      <td>1</td>\n",
       "      <td>0</td>\n",
       "      <td>2</td>\n",
       "    </tr>\n",
       "    <tr>\n",
       "      <th>4</th>\n",
       "      <td>be</td>\n",
       "      <td>1</td>\n",
       "      <td>0</td>\n",
       "      <td>0</td>\n",
       "      <td>0</td>\n",
       "      <td>0</td>\n",
       "      <td>0</td>\n",
       "      <td>0</td>\n",
       "      <td>0</td>\n",
       "      <td>0</td>\n",
       "      <td>...</td>\n",
       "      <td>0</td>\n",
       "      <td>0</td>\n",
       "      <td>0</td>\n",
       "      <td>0</td>\n",
       "      <td>0</td>\n",
       "      <td>2</td>\n",
       "      <td>0</td>\n",
       "      <td>1</td>\n",
       "      <td>0</td>\n",
       "      <td>4</td>\n",
       "    </tr>\n",
       "  </tbody>\n",
       "</table>\n",
       "<p>5 rows × 25 columns</p>\n",
       "</div>"
      ],
      "text/plain": [
       "     word  Document 1  Document 2  Document 3  Document 4  Document 5  \\\n",
       "0  repres           1           0           0           0           0   \n",
       "1     who           1           0           0           0           0   \n",
       "2      ar           1           0           0           0           0   \n",
       "3    fall           1           0           0           0           0   \n",
       "4      be           1           0           0           0           0   \n",
       "\n",
       "   Document 6  Document 7  Document 8  Document 9 ...  Document 15  \\\n",
       "0           0           0           0           0 ...            0   \n",
       "1           0           0           0           0 ...            0   \n",
       "2           1           1           1           0 ...            0   \n",
       "3           0           0           0           0 ...            0   \n",
       "4           0           0           0           0 ...            0   \n",
       "\n",
       "   Document 16  Document 17  Document 18  Document 19  Document 20  \\\n",
       "0            1            0            0            0            0   \n",
       "1            6            1            0            0            0   \n",
       "2            0            1            1            2            0   \n",
       "3            0            0            0            0            0   \n",
       "4            0            0            0            0            2   \n",
       "\n",
       "   Document 21  Document 22  Document 23  df  \n",
       "0            0            0            0   2  \n",
       "1            1            0            0   5  \n",
       "2            2            0            1  10  \n",
       "3            0            1            0   2  \n",
       "4            0            1            0   4  \n",
       "\n",
       "[5 rows x 25 columns]"
      ]
     },
     "execution_count": 4,
     "metadata": {},
     "output_type": "execute_result"
    }
   ],
   "source": [
    "df.head()"
   ]
  },
  {
   "cell_type": "code",
   "execution_count": 22,
   "metadata": {},
   "outputs": [],
   "source": [
    "doc_headers = [column for column in df.columns if column not in ['word', 'df']]"
   ]
  },
  {
   "cell_type": "code",
   "execution_count": 24,
   "metadata": {},
   "outputs": [],
   "source": [
    "vecs = pd.DataFrame(df)"
   ]
  },
  {
   "cell_type": "code",
   "execution_count": 30,
   "metadata": {},
   "outputs": [],
   "source": [
    "# ntc\n",
    "import numpy as np\n",
    "norm_doc_freq = np.log(len(doc_headers)/vecs['df'])"
   ]
  },
  {
   "cell_type": "code",
   "execution_count": 32,
   "metadata": {},
   "outputs": [],
   "source": [
    "# tf.df\n",
    "for doc in doc_headers:\n",
    "    vecs[doc] = vecs[doc] * norm_doc_freq"
   ]
  },
  {
   "cell_type": "code",
   "execution_count": 39,
   "metadata": {},
   "outputs": [],
   "source": [
    "# Cosine normalization:\n",
    "for doc in doc_headers:\n",
    "    sum_sq = np.sum(vecs[doc]**2)\n",
    "    vecs[doc] = vecs[doc]/sum_sq"
   ]
  },
  {
   "cell_type": "code",
   "execution_count": 43,
   "metadata": {},
   "outputs": [],
   "source": [
    "# KNN step a: randomly assign docs to clusters\n",
    "cluster_centroids = [vecs[doc_headers[no]] for no in range(5)]"
   ]
  },
  {
   "cell_type": "code",
   "execution_count": 52,
   "metadata": {},
   "outputs": [],
   "source": [
    "dist_matrix = np.zeros(shape=(len(doc_headers),len(cluster_centroids)), dtype=float)"
   ]
  },
  {
   "cell_type": "code",
   "execution_count": 67,
   "metadata": {},
   "outputs": [],
   "source": [
    "# Populate the distance-matrix\n",
    "for doc in range(len(doc_headers)):\n",
    "    for centroid in range(len(cluster_centroids)):\n",
    "        vec_difference = vecs[doc_headers[doc]] - cluster_centroids[centroid]\n",
    "        magnitude = np.sum(vec_difference**2)\n",
    "        dist_matrix[doc][centroid] = magnitude "
   ]
  },
  {
   "cell_type": "code",
   "execution_count": 81,
   "metadata": {},
   "outputs": [],
   "source": [
    "distances = np.apply_along_axis(np.argmin, 1, dist_matrix)"
   ]
  },
  {
   "cell_type": "code",
   "execution_count": 78,
   "metadata": {},
   "outputs": [],
   "source": [
    "# initialize the clusters\n",
    "clusters = dict()"
   ]
  },
  {
   "cell_type": "code",
   "execution_count": 79,
   "metadata": {},
   "outputs": [],
   "source": [
    "for i in range(5):\n",
    "    clusters[i] = []"
   ]
  },
  {
   "cell_type": "code",
   "execution_count": 83,
   "metadata": {},
   "outputs": [],
   "source": [
    "for doc in range(len(distances)):\n",
    "    nearest = distances[doc]\n",
    "    clusters[nearest].append(doc)"
   ]
  },
  {
   "cell_type": "code",
   "execution_count": 89,
   "metadata": {},
   "outputs": [],
   "source": [
    "# Get the vectors in cluster 1\n",
    "cluster_vectors = [vecs[doc_headers[doc_nos]] for doc_nos in clusters[1]]"
   ]
  },
  {
   "cell_type": "code",
   "execution_count": 151,
   "metadata": {},
   "outputs": [],
   "source": [
    "def get_centroids(clusters):\n",
    "    cluster_centroids = []\n",
    "    for i in clusters:\n",
    "        cluster_vectors = [vecs[doc_headers[doc_nos]] for doc_nos in clusters[i]]\n",
    "        centroid = np.sum(cluster_vectors, axis=0)/len(clusters[i])\n",
    "        cluster_centroids.append(centroid)\n",
    "    return cluster_centroids"
   ]
  },
  {
   "cell_type": "code",
   "execution_count": 160,
   "metadata": {},
   "outputs": [],
   "source": [
    "# Get a matrix of shape(docs x clusters) containing the distance of doc from each cluster centroid.\n",
    "def get_absolute_distances(doc_headers, cluster_centroids):\n",
    "    dist_matrix = np.zeros(shape=(len(doc_headers),len(cluster_centroids)), dtype=float)\n",
    "    for vec in range(len(doc_headers)):\n",
    "        for centroid in range(len(cluster_centroids)):\n",
    "            vec_difference = vecs[doc_headers[vec]] - cluster_centroids[centroid]\n",
    "            magnitude = np.sum(vec_difference**2)\n",
    "            dist_matrix[vec][centroid] = magnitude\n",
    "    return dist_matrix"
   ]
  },
  {
   "cell_type": "code",
   "execution_count": 175,
   "metadata": {},
   "outputs": [],
   "source": [
    "def get_clusters(dist_matrix):\n",
    "    clusters = dict()\n",
    "    for i in range(len(dist_matrix[0])):\n",
    "        clusters[i] = []\n",
    "    distances = np.apply_along_axis(np.argmin, 1, dist_matrix)\n",
    "    for doc in range(len(distances)):\n",
    "        nearest = distances[doc]\n",
    "        clusters[nearest].append(doc)\n",
    "    return clusters"
   ]
  },
  {
   "cell_type": "code",
   "execution_count": 328,
   "metadata": {},
   "outputs": [],
   "source": [
    "class KNN:\n",
    "    def __init__(self, N):\n",
    "        self.N = N\n",
    "    \n",
    "    def get_empty_clusters(self, N):\n",
    "        clusters = dict()\n",
    "        for i in range(N):\n",
    "            clusters[i] = []\n",
    "        return clusters\n",
    "    \n",
    "    def initialize_state(self, doc_headers, vecs):\n",
    "        self.doc_headers = doc_headers\n",
    "        self.vecs = vecs\n",
    "        self.clusters = self.get_empty_clusters(self.N)\n",
    "        \n",
    "        indices = np.arange(len(doc_headers))\n",
    "        np.random.shuffle(indices)\n",
    "        \n",
    "        #  randomly assign clusters\n",
    "        for i in range(self.N):\n",
    "            self.clusters[i].append(indices[i])\n",
    "    \n",
    "    # Calculates the centroids given clusters\n",
    "    def get_centroids(self, clusters):\n",
    "        cluster_centroids = []\n",
    "        for i in clusters:\n",
    "            cluster_vectors = [vecs[doc_headers[doc_nos]] for doc_nos in clusters[i]]\n",
    "            centroid = np.sum(cluster_vectors, axis=0)/len(clusters[i])\n",
    "            cluster_centroids.append(centroid)\n",
    "        return cluster_centroids\n",
    "\n",
    "    # Get a matrix of shape(docs x clusters) containing the distance of doc from each cluster centroid.\n",
    "    def get_absolute_distances(self, doc_headers, cluster_centroids):\n",
    "        dist_matrix = np.zeros(shape=(len(doc_headers),len(cluster_centroids)), dtype=float)\n",
    "        for vec in range(len(doc_headers)):\n",
    "            for centroid in range(len(cluster_centroids)):\n",
    "                vec_difference = vecs[doc_headers[vec]] - cluster_centroids[centroid]\n",
    "                magnitude = np.sum(vec_difference**2)\n",
    "                dist_matrix[vec][centroid] = magnitude\n",
    "        return dist_matrix\n",
    "    \n",
    "    def get_clusters(self, dist_matrix):\n",
    "        clusters = self.get_empty_clusters(self.N)\n",
    "        distances = np.apply_along_axis(np.argmin, 1, dist_matrix)\n",
    "        for doc in range(len(distances)):\n",
    "            nearest = distances[doc]\n",
    "            clusters[nearest].append(doc)\n",
    "        return clusters\n",
    "    \n",
    "    def cluster_hierarchy(self):\n",
    "        clust_hier = dict()\n",
    "        clusters = self.clusters\n",
    "        for i in clusters:\n",
    "            clust_hier[i] = dict()\n",
    "            dist_from_centroid = self.dist_matrix[clusters[i], i]\n",
    "            closest = np.argmin(dist_from_centroid)\n",
    "            leader = clusters[i][closest]\n",
    "            clust_hier[i]['leader'] = leader\n",
    "            clust_hier[i]['followers'] = [doc for doc in clusters[i] if doc!=leader]\n",
    "        return clust_hier\n",
    "    \n",
    "    def cluster(self, doc_headers, vecs):\n",
    "        self.initialize_state(doc_headers, vecs)\n",
    "        calculated_clusters = self.clusters\n",
    "        converged = False\n",
    "        \n",
    "        while(converged == False):\n",
    "            self.clusters = calculated_clusters\n",
    "            cluster_centroids = self.get_centroids(calculated_clusters)\n",
    "            self.dist_matrix = self.get_absolute_distances(doc_headers, cluster_centroids)\n",
    "            calculated_clusters = self.get_clusters(self.dist_matrix)\n",
    "            converged = self.clusters == calculated_clusters\n",
    "        return calculated_clusters"
   ]
  },
  {
   "cell_type": "code",
   "execution_count": 329,
   "metadata": {},
   "outputs": [],
   "source": [
    "knn = KNN(5)"
   ]
  },
  {
   "cell_type": "code",
   "execution_count": 332,
   "metadata": {},
   "outputs": [
    {
     "data": {
      "text/plain": [
       "{0: [11],\n",
       " 1: [21],\n",
       " 2: [14],\n",
       " 3: [17],\n",
       " 4: [0, 1, 2, 3, 4, 5, 6, 7, 8, 9, 10, 12, 13, 15, 16, 18, 19, 20, 22]}"
      ]
     },
     "execution_count": 332,
     "metadata": {},
     "output_type": "execute_result"
    }
   ],
   "source": [
    "knn.cluster(doc_headers, vecs)"
   ]
  },
  {
   "cell_type": "code",
   "execution_count": 333,
   "metadata": {},
   "outputs": [
    {
     "data": {
      "text/plain": [
       "{0: {'followers': [], 'leader': 11},\n",
       " 1: {'followers': [], 'leader': 21},\n",
       " 2: {'followers': [], 'leader': 14},\n",
       " 3: {'followers': [], 'leader': 17},\n",
       " 4: {'followers': [0,\n",
       "   2,\n",
       "   3,\n",
       "   4,\n",
       "   5,\n",
       "   6,\n",
       "   7,\n",
       "   8,\n",
       "   9,\n",
       "   10,\n",
       "   12,\n",
       "   13,\n",
       "   15,\n",
       "   16,\n",
       "   18,\n",
       "   19,\n",
       "   20,\n",
       "   22],\n",
       "  'leader': 1}}"
      ]
     },
     "execution_count": 333,
     "metadata": {},
     "output_type": "execute_result"
    }
   ],
   "source": [
    "knn.cluster_hierarchy()"
   ]
  }
 ],
 "metadata": {
  "kernelspec": {
   "display_name": "Python 3",
   "language": "python",
   "name": "python3"
  },
  "language_info": {
   "codemirror_mode": {
    "name": "ipython",
    "version": 3
   },
   "file_extension": ".py",
   "mimetype": "text/x-python",
   "name": "python",
   "nbconvert_exporter": "python",
   "pygments_lexer": "ipython3",
   "version": "3.6.4"
  }
 },
 "nbformat": 4,
 "nbformat_minor": 2
}
