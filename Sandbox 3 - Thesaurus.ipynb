{
 "cells": [
  {
   "cell_type": "code",
   "execution_count": 52,
   "metadata": {},
   "outputs": [],
   "source": [
    "import pandas as pd\n",
    "import numpy as np\n",
    "from nltk.tokenize import word_tokenize"
   ]
  },
  {
   "cell_type": "code",
   "execution_count": 3,
   "metadata": {},
   "outputs": [],
   "source": [
    "import csv"
   ]
  },
  {
   "cell_type": "code",
   "execution_count": 87,
   "metadata": {},
   "outputs": [],
   "source": [
    "with open('thesaurus.csv', 'r') as csvfile:\n",
    "    reader = csv.reader(csvfile, delimiter=',')\n",
    "    rows = [row for row in reader]"
   ]
  },
  {
   "cell_type": "code",
   "execution_count": 88,
   "metadata": {},
   "outputs": [],
   "source": [
    "for i in range(len(rows)):\n",
    "    rows[i] = [word.strip().lower() for word in rows[i] if word != '']"
   ]
  },
  {
   "cell_type": "code",
   "execution_count": 89,
   "metadata": {},
   "outputs": [],
   "source": [
    "thesaurus = dict()\n",
    "for i in range(len(rows)):\n",
    "    if i>0:\n",
    "        word = rows[i].pop(0)\n",
    "        thesaurus[word] = rows[i]"
   ]
  },
  {
   "cell_type": "code",
   "execution_count": 289,
   "metadata": {},
   "outputs": [
    {
     "data": {
      "text/plain": [
       "{'beautiful': ['nice', 'fancy'],\n",
       " 'brown': ['beige', 'tan', 'auburn'],\n",
       " 'chapter': ['chpt'],\n",
       " 'chpt': ['chapter'],\n",
       " 'computer': ['cse'],\n",
       " 'dept': ['department'],\n",
       " 'freemanmoore': ['freeman', 'moore'],\n",
       " 'hocuspocus': ['magic', 'abracadabra'],\n",
       " 'homework': ['hmwk', 'home', 'work'],\n",
       " 'novel': ['book', 'unique'],\n",
       " 'responsible': ['owner', 'accountable'],\n",
       " 'sole': ['owner', 'single', 'shoe', 'boot'],\n",
       " 'story': ['novel', 'book'],\n",
       " 'thisworks': ['this', 'work'],\n",
       " 'tues': ['tuesday']}"
      ]
     },
     "execution_count": 289,
     "metadata": {},
     "output_type": "execute_result"
    }
   ],
   "source": [
    "thesaurus"
   ]
  },
  {
   "cell_type": "code",
   "execution_count": 290,
   "metadata": {},
   "outputs": [],
   "source": [
    "query_words = ['beautiful', 'brown', 'homework']"
   ]
  },
  {
   "cell_type": "code",
   "execution_count": 296,
   "metadata": {},
   "outputs": [],
   "source": [
    "def get_alternate_queries(query_words):\n",
    "    queries = []\n",
    "    def thesaurus_expander(query_words, current_query):\n",
    "        current_word = query_words[0]\n",
    "        words_to_try = list(thesaurus[current_word])\n",
    "        words_to_try.insert(0, current_word)\n",
    "        for word in words_to_try:\n",
    "            if current_query != '':\n",
    "                new_query = current_query+' '+word\n",
    "            else:\n",
    "                new_query = current_query + word\n",
    "            if len(query_words)>1:\n",
    "                thesaurus_expander(query_words[1:], new_query)\n",
    "            else:\n",
    "                queries.append(new_query)\n",
    "    thesaurus_expander(query_words, '')\n",
    "    for query in queries:\n",
    "        yield query"
   ]
  },
  {
   "cell_type": "code",
   "execution_count": 347,
   "metadata": {},
   "outputs": [],
   "source": [
    "a = get_alternate_queries(query_words)"
   ]
  },
  {
   "cell_type": "code",
   "execution_count": 348,
   "metadata": {},
   "outputs": [],
   "source": [
    "for a1 in a:\n",
    "    b2 = str(a1)"
   ]
  },
  {
   "cell_type": "code",
   "execution_count": 349,
   "metadata": {},
   "outputs": [
    {
     "data": {
      "text/plain": [
       "'fancy auburn work'"
      ]
     },
     "execution_count": 349,
     "metadata": {},
     "output_type": "execute_result"
    }
   ],
   "source": [
    "b2"
   ]
  },
  {
   "cell_type": "code",
   "execution_count": 286,
   "metadata": {},
   "outputs": [
    {
     "name": "stdout",
     "output_type": "stream",
     "text": [
      "beautiful brown\n",
      "beautiful beige\n",
      "beautiful tan\n",
      "beautiful auburn\n",
      "None\n",
      "nice brown\n",
      "nice beige\n",
      "nice tan\n",
      "nice auburn\n",
      "None\n",
      "fancy brown\n",
      "fancy beige\n",
      "fancy tan\n",
      "fancy auburn\n",
      "None\n"
     ]
    }
   ],
   "source": [
    "thesaurus_expander(['beautiful', 'brown'], '')"
   ]
  },
  {
   "cell_type": "code",
   "execution_count": 241,
   "metadata": {},
   "outputs": [],
   "source": [
    "a"
   ]
  },
  {
   "cell_type": "code",
   "execution_count": 215,
   "metadata": {},
   "outputs": [
    {
     "data": {
      "text/plain": [
       "<itertools.product at 0x1172477e0>"
      ]
     },
     "execution_count": 215,
     "metadata": {},
     "output_type": "execute_result"
    }
   ],
   "source": [
    "import itertools"
   ]
  },
  {
   "cell_type": "code",
   "execution_count": 224,
   "metadata": {},
   "outputs": [],
   "source": [
    "words = ['beautiful', 'brown']"
   ]
  },
  {
   "cell_type": "code",
   "execution_count": 225,
   "metadata": {},
   "outputs": [],
   "source": [
    "synonyms = [thesaurus[word] for word in words]"
   ]
  },
  {
   "cell_type": "code",
   "execution_count": 226,
   "metadata": {},
   "outputs": [
    {
     "data": {
      "text/plain": [
       "[['nice', 'fancy'], ['beige', 'tan', 'auburn']]"
      ]
     },
     "execution_count": 226,
     "metadata": {},
     "output_type": "execute_result"
    }
   ],
   "source": [
    "synonyms"
   ]
  },
  {
   "cell_type": "code",
   "execution_count": 272,
   "metadata": {},
   "outputs": [],
   "source": [
    "a = itertools.product(synonyms[0], synonyms[1])"
   ]
  },
  {
   "cell_type": "code",
   "execution_count": 273,
   "metadata": {},
   "outputs": [],
   "source": [
    "b = itertools.product(next(a), ['word2'])"
   ]
  },
  {
   "cell_type": "code",
   "execution_count": 276,
   "metadata": {},
   "outputs": [
    {
     "ename": "StopIteration",
     "evalue": "",
     "output_type": "error",
     "traceback": [
      "\u001b[0;31m---------------------------------------------------------------------------\u001b[0m",
      "\u001b[0;31mStopIteration\u001b[0m                             Traceback (most recent call last)",
      "\u001b[0;32m<ipython-input-276-adb3e17b0219>\u001b[0m in \u001b[0;36m<module>\u001b[0;34m()\u001b[0m\n\u001b[0;32m----> 1\u001b[0;31m \u001b[0mnext\u001b[0m\u001b[0;34m(\u001b[0m\u001b[0mb\u001b[0m\u001b[0;34m)\u001b[0m\u001b[0;34m\u001b[0m\u001b[0m\n\u001b[0m",
      "\u001b[0;31mStopIteration\u001b[0m: "
     ]
    }
   ],
   "source": []
  }
 ],
 "metadata": {
  "kernelspec": {
   "display_name": "Python 3",
   "language": "python",
   "name": "python3"
  },
  "language_info": {
   "codemirror_mode": {
    "name": "ipython",
    "version": 3
   },
   "file_extension": ".py",
   "mimetype": "text/x-python",
   "name": "python",
   "nbconvert_exporter": "python",
   "pygments_lexer": "ipython3",
   "version": "3.6.4"
  }
 },
 "nbformat": 4,
 "nbformat_minor": 2
}
