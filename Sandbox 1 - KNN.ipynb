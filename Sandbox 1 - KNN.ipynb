{
 "cells": [
  {
   "cell_type": "code",
   "execution_count": 76,
   "metadata": {},
   "outputs": [],
   "source": [
    "import pandas as pd"
   ]
  },
  {
   "cell_type": "code",
   "execution_count": 303,
   "metadata": {},
   "outputs": [],
   "source": [
    "df = pd.read_csv('tf-df.csv')"
   ]
  },
  {
   "cell_type": "code",
   "execution_count": 78,
   "metadata": {},
   "outputs": [
    {
     "data": {
      "text/html": [
       "<div>\n",
       "<style scoped>\n",
       "    .dataframe tbody tr th:only-of-type {\n",
       "        vertical-align: middle;\n",
       "    }\n",
       "\n",
       "    .dataframe tbody tr th {\n",
       "        vertical-align: top;\n",
       "    }\n",
       "\n",
       "    .dataframe thead th {\n",
       "        text-align: right;\n",
       "    }\n",
       "</style>\n",
       "<table border=\"1\" class=\"dataframe\">\n",
       "  <thead>\n",
       "    <tr style=\"text-align: right;\">\n",
       "      <th></th>\n",
       "      <th>word</th>\n",
       "      <th>Document 1</th>\n",
       "      <th>Document 2</th>\n",
       "      <th>Document 3</th>\n",
       "      <th>Document 4</th>\n",
       "      <th>Document 5</th>\n",
       "      <th>Document 6</th>\n",
       "      <th>Document 7</th>\n",
       "      <th>Document 8</th>\n",
       "      <th>Document 9</th>\n",
       "      <th>...</th>\n",
       "      <th>Document 23</th>\n",
       "      <th>Document 24</th>\n",
       "      <th>Document 25</th>\n",
       "      <th>Document 26</th>\n",
       "      <th>Document 27</th>\n",
       "      <th>Document 28</th>\n",
       "      <th>Document 29</th>\n",
       "      <th>Document 30</th>\n",
       "      <th>Document 31</th>\n",
       "      <th>df</th>\n",
       "    </tr>\n",
       "  </thead>\n",
       "  <tbody>\n",
       "    <tr>\n",
       "      <th>0</th>\n",
       "      <td>caruth</td>\n",
       "      <td>1</td>\n",
       "      <td>0</td>\n",
       "      <td>0</td>\n",
       "      <td>0</td>\n",
       "      <td>0</td>\n",
       "      <td>0</td>\n",
       "      <td>0</td>\n",
       "      <td>0</td>\n",
       "      <td>0</td>\n",
       "      <td>...</td>\n",
       "      <td>0</td>\n",
       "      <td>0</td>\n",
       "      <td>0</td>\n",
       "      <td>0</td>\n",
       "      <td>0</td>\n",
       "      <td>0</td>\n",
       "      <td>0</td>\n",
       "      <td>0</td>\n",
       "      <td>0</td>\n",
       "      <td>1</td>\n",
       "    </tr>\n",
       "    <tr>\n",
       "      <th>1</th>\n",
       "      <td>the</td>\n",
       "      <td>2</td>\n",
       "      <td>1</td>\n",
       "      <td>0</td>\n",
       "      <td>0</td>\n",
       "      <td>2</td>\n",
       "      <td>0</td>\n",
       "      <td>0</td>\n",
       "      <td>0</td>\n",
       "      <td>2</td>\n",
       "      <td>...</td>\n",
       "      <td>0</td>\n",
       "      <td>1</td>\n",
       "      <td>0</td>\n",
       "      <td>1</td>\n",
       "      <td>1</td>\n",
       "      <td>0</td>\n",
       "      <td>0</td>\n",
       "      <td>0</td>\n",
       "      <td>0</td>\n",
       "      <td>17</td>\n",
       "    </tr>\n",
       "    <tr>\n",
       "      <th>2</th>\n",
       "      <td>content</td>\n",
       "      <td>1</td>\n",
       "      <td>1</td>\n",
       "      <td>0</td>\n",
       "      <td>0</td>\n",
       "      <td>0</td>\n",
       "      <td>0</td>\n",
       "      <td>0</td>\n",
       "      <td>0</td>\n",
       "      <td>0</td>\n",
       "      <td>...</td>\n",
       "      <td>0</td>\n",
       "      <td>0</td>\n",
       "      <td>0</td>\n",
       "      <td>0</td>\n",
       "      <td>0</td>\n",
       "      <td>0</td>\n",
       "      <td>0</td>\n",
       "      <td>0</td>\n",
       "      <td>1</td>\n",
       "      <td>3</td>\n",
       "    </tr>\n",
       "    <tr>\n",
       "      <th>3</th>\n",
       "      <td>respons</td>\n",
       "      <td>1</td>\n",
       "      <td>0</td>\n",
       "      <td>0</td>\n",
       "      <td>0</td>\n",
       "      <td>0</td>\n",
       "      <td>0</td>\n",
       "      <td>0</td>\n",
       "      <td>0</td>\n",
       "      <td>2</td>\n",
       "      <td>...</td>\n",
       "      <td>0</td>\n",
       "      <td>0</td>\n",
       "      <td>0</td>\n",
       "      <td>0</td>\n",
       "      <td>0</td>\n",
       "      <td>0</td>\n",
       "      <td>0</td>\n",
       "      <td>0</td>\n",
       "      <td>0</td>\n",
       "      <td>2</td>\n",
       "    </tr>\n",
       "    <tr>\n",
       "      <th>4</th>\n",
       "      <td>smu</td>\n",
       "      <td>1</td>\n",
       "      <td>2</td>\n",
       "      <td>1</td>\n",
       "      <td>1</td>\n",
       "      <td>0</td>\n",
       "      <td>0</td>\n",
       "      <td>0</td>\n",
       "      <td>0</td>\n",
       "      <td>0</td>\n",
       "      <td>...</td>\n",
       "      <td>0</td>\n",
       "      <td>0</td>\n",
       "      <td>0</td>\n",
       "      <td>0</td>\n",
       "      <td>0</td>\n",
       "      <td>0</td>\n",
       "      <td>0</td>\n",
       "      <td>0</td>\n",
       "      <td>0</td>\n",
       "      <td>4</td>\n",
       "    </tr>\n",
       "  </tbody>\n",
       "</table>\n",
       "<p>5 rows × 33 columns</p>\n",
       "</div>"
      ],
      "text/plain": [
       "      word  Document 1  Document 2  Document 3  Document 4  Document 5  \\\n",
       "0   caruth           1           0           0           0           0   \n",
       "1      the           2           1           0           0           2   \n",
       "2  content           1           1           0           0           0   \n",
       "3  respons           1           0           0           0           0   \n",
       "4      smu           1           2           1           1           0   \n",
       "\n",
       "   Document 6  Document 7  Document 8  Document 9 ...  Document 23  \\\n",
       "0           0           0           0           0 ...            0   \n",
       "1           0           0           0           2 ...            0   \n",
       "2           0           0           0           0 ...            0   \n",
       "3           0           0           0           2 ...            0   \n",
       "4           0           0           0           0 ...            0   \n",
       "\n",
       "   Document 24  Document 25  Document 26  Document 27  Document 28  \\\n",
       "0            0            0            0            0            0   \n",
       "1            1            0            1            1            0   \n",
       "2            0            0            0            0            0   \n",
       "3            0            0            0            0            0   \n",
       "4            0            0            0            0            0   \n",
       "\n",
       "   Document 29  Document 30  Document 31  df  \n",
       "0            0            0            0   1  \n",
       "1            0            0            0  17  \n",
       "2            0            0            1   3  \n",
       "3            0            0            0   2  \n",
       "4            0            0            0   4  \n",
       "\n",
       "[5 rows x 33 columns]"
      ]
     },
     "execution_count": 78,
     "metadata": {},
     "output_type": "execute_result"
    }
   ],
   "source": [
    "df.head()"
   ]
  },
  {
   "cell_type": "code",
   "execution_count": 79,
   "metadata": {},
   "outputs": [],
   "source": [
    "doc_headers = [column for column in df.columns if column not in ['word', 'df']]"
   ]
  },
  {
   "cell_type": "code",
   "execution_count": 80,
   "metadata": {},
   "outputs": [],
   "source": [
    "vecs = pd.DataFrame(df)"
   ]
  },
  {
   "cell_type": "code",
   "execution_count": 81,
   "metadata": {},
   "outputs": [],
   "source": [
    "# ntc\n",
    "import numpy as np\n",
    "norm_doc_freq = np.log(len(doc_headers)/vecs['df'])"
   ]
  },
  {
   "cell_type": "code",
   "execution_count": 82,
   "metadata": {},
   "outputs": [],
   "source": [
    "# tf.df\n",
    "for doc in doc_headers:\n",
    "    vecs[doc] = vecs[doc] * norm_doc_freq"
   ]
  },
  {
   "cell_type": "code",
   "execution_count": 83,
   "metadata": {},
   "outputs": [],
   "source": [
    "# Cosine normalization:\n",
    "for doc in doc_headers:\n",
    "    sum_sq = np.sum(vecs[doc]**2)\n",
    "    vecs[doc] = vecs[doc]/sum_sq"
   ]
  },
  {
   "cell_type": "code",
   "execution_count": 84,
   "metadata": {},
   "outputs": [],
   "source": [
    "# KNN step a: randomly assign docs to clusters\n",
    "cluster_centroids = [vecs[doc_headers[no]] for no in range(5)]"
   ]
  },
  {
   "cell_type": "code",
   "execution_count": 85,
   "metadata": {},
   "outputs": [],
   "source": [
    "dist_matrix = np.zeros(shape=(len(doc_headers),len(cluster_centroids)), dtype=float)"
   ]
  },
  {
   "cell_type": "code",
   "execution_count": 86,
   "metadata": {},
   "outputs": [],
   "source": [
    "# Populate the distance-matrix\n",
    "for doc in range(len(doc_headers)):\n",
    "    for centroid in range(len(cluster_centroids)):\n",
    "        vec_difference = vecs[doc_headers[doc]] - cluster_centroids[centroid]\n",
    "        magnitude = np.sum(vec_difference**2)\n",
    "        dist_matrix[doc][centroid] = magnitude "
   ]
  },
  {
   "cell_type": "code",
   "execution_count": 87,
   "metadata": {},
   "outputs": [],
   "source": [
    "distances = np.apply_along_axis(np.argmin, 1, dist_matrix)"
   ]
  },
  {
   "cell_type": "code",
   "execution_count": 88,
   "metadata": {},
   "outputs": [],
   "source": [
    "# initialize the clusters\n",
    "clusters = dict()"
   ]
  },
  {
   "cell_type": "code",
   "execution_count": 89,
   "metadata": {},
   "outputs": [],
   "source": [
    "for i in range(5):\n",
    "    clusters[i] = []"
   ]
  },
  {
   "cell_type": "code",
   "execution_count": 90,
   "metadata": {},
   "outputs": [],
   "source": [
    "for doc in range(len(distances)):\n",
    "    nearest = distances[doc]\n",
    "    clusters[nearest].append(doc)"
   ]
  },
  {
   "cell_type": "code",
   "execution_count": 91,
   "metadata": {},
   "outputs": [],
   "source": [
    "# Get the vectors in cluster 1\n",
    "cluster_vectors = [vecs[doc_headers[doc_nos]] for doc_nos in clusters[1]]"
   ]
  },
  {
   "cell_type": "code",
   "execution_count": 92,
   "metadata": {},
   "outputs": [],
   "source": [
    "def get_centroids(clusters):\n",
    "    cluster_centroids = []\n",
    "    for i in clusters:\n",
    "        cluster_vectors = [vecs[doc_headers[doc_nos]] for doc_nos in clusters[i]]\n",
    "        centroid = np.sum(cluster_vectors, axis=0)/len(clusters[i])\n",
    "        cluster_centroids.append(centroid)\n",
    "    return cluster_centroids"
   ]
  },
  {
   "cell_type": "code",
   "execution_count": 93,
   "metadata": {},
   "outputs": [],
   "source": [
    "# Get a matrix of shape(docs x clusters) containing the distance of doc from each cluster centroid.\n",
    "def get_absolute_distances(doc_headers, cluster_centroids):\n",
    "    dist_matrix = np.zeros(shape=(len(doc_headers),len(cluster_centroids)), dtype=float)\n",
    "    for vec in range(len(doc_headers)):\n",
    "        for centroid in range(len(cluster_centroids)):\n",
    "            vec_difference = vecs[doc_headers[vec]] - cluster_centroids[centroid]\n",
    "            magnitude = np.sum(vec_difference**2)\n",
    "            dist_matrix[vec][centroid] = magnitude\n",
    "    return dist_matrix"
   ]
  },
  {
   "cell_type": "code",
   "execution_count": 94,
   "metadata": {},
   "outputs": [],
   "source": [
    "def get_clusters(dist_matrix):\n",
    "    clusters = dict()\n",
    "    for i in range(len(dist_matrix[0])):\n",
    "        clusters[i] = []\n",
    "    distances = np.apply_along_axis(np.argmin, 1, dist_matrix)\n",
    "    for doc in range(len(distances)):\n",
    "        nearest = distances[doc]\n",
    "        clusters[nearest].append(doc)\n",
    "    return clusters"
   ]
  },
  {
   "cell_type": "code",
   "execution_count": 302,
   "metadata": {},
   "outputs": [],
   "source": [
    "class KNN:\n",
    "    def __init__(self, N):\n",
    "        self.N = N\n",
    "    \n",
    "    def get_empty_clusters(self, N):\n",
    "        clusters = dict()\n",
    "        for i in range(N):\n",
    "            clusters[i] = []\n",
    "        return clusters\n",
    "    \n",
    "    def initialize_state(self, doc_headers, vecs):\n",
    "        self.doc_headers = doc_headers\n",
    "        self.vecs = vecs\n",
    "        self.clusters = self.get_empty_clusters(self.N)\n",
    "        \n",
    "        #indices = np.arange(len(doc_headers))\n",
    "        # np.random.shuffle(indices)\n",
    "        doc_count = len(doc_headers)\n",
    "        indices = np.arange(start=0, stop=doc_count, step=doc_count/self.N, dtype=np.int)\n",
    "        \n",
    "        for i in range(self.N):\n",
    "            self.clusters[i].append(indices[i])\n",
    "    \n",
    "    # Calculates the centroids given clusters\n",
    "    def get_centroids(self, clusters):\n",
    "        cluster_centroids = []\n",
    "        for i in clusters:\n",
    "            cluster_vectors = [self.vecs[self.doc_headers[doc_nos]] for doc_nos in clusters[i]]\n",
    "            #centroid = np.sum(cluster_vectors, axis=0)/len(clusters[i])\n",
    "            centroid = np.mean(cluster_vectors, axis=0)\n",
    "            cluster_centroids.append(centroid)\n",
    "        return cluster_centroids\n",
    "\n",
    "    # Get a matrix of shape(docs x clusters) containing the distance of doc from each cluster centroid.\n",
    "    def get_absolute_distances(self, doc_headers, cluster_centroids):\n",
    "        dist_matrix = np.zeros(shape=(len(doc_headers),len(cluster_centroids)), dtype=float)\n",
    "        for vec in range(len(doc_headers)):\n",
    "            for centroid in range(len(cluster_centroids)):\n",
    "                vec_difference = self.vecs[doc_headers[vec]] - cluster_centroids[centroid]\n",
    "                magnitude = np.sum(vec_difference**2)\n",
    "                dist_matrix[vec][centroid] = np.sqrt(magnitude)\n",
    "        return dist_matrix\n",
    "    \n",
    "    def get_clusters(self, dist_matrix):\n",
    "        clusters = self.get_empty_clusters(self.N)\n",
    "        distances = np.apply_along_axis(np.argmin, 1, dist_matrix)\n",
    "        for doc in range(len(distances)):\n",
    "            nearest = distances[doc]\n",
    "            clusters[nearest].append(doc)\n",
    "        return clusters\n",
    "    \n",
    "    def cluster_hierarchy(self):\n",
    "        clust_hier = dict()\n",
    "        clusters = self.clusters\n",
    "        for i in clusters:\n",
    "            clust_hier[i] = dict()\n",
    "            dist_from_centroid = self.dist_matrix[clusters[i], i]\n",
    "            closest = np.argmin(dist_from_centroid)\n",
    "            leader = clusters[i][closest]\n",
    "            clust_hier[i]['leader'] = leader\n",
    "            clust_hier[i]['followers'] = [doc for doc in clusters[i] if doc!=leader]\n",
    "        return clust_hier\n",
    "    \n",
    "    def cluster(self, doc_headers, vecs):\n",
    "        self.initialize_state(doc_headers, vecs)\n",
    "        self.clusters = self.iteration(self.clusters)\n",
    "        converged = False\n",
    "        \n",
    "        while(converged == False):\n",
    "            calculated_clusters = self.iteration(self.clusters)\n",
    "            converged = self.clusters == calculated_clusters\n",
    "            self.clusters = calculated_clusters\n",
    "        return calculated_clusters\n",
    "    \n",
    "    def iteration(self, clusters):\n",
    "        cluster_centroids = self.get_centroids(clusters)\n",
    "        self.dist_matrix = self.get_absolute_distances(self.doc_headers, cluster_centroids)\n",
    "        return self.get_clusters(self.dist_matrix)"
   ]
  },
  {
   "cell_type": "code",
   "execution_count": 306,
   "metadata": {},
   "outputs": [],
   "source": [
    "knn = KNN(5)"
   ]
  },
  {
   "cell_type": "code",
   "execution_count": 226,
   "metadata": {},
   "outputs": [],
   "source": [
    "import scorer"
   ]
  },
  {
   "cell_type": "code",
   "execution_count": 304,
   "metadata": {},
   "outputs": [],
   "source": [
    "vecs = df.copy()"
   ]
  },
  {
   "cell_type": "code",
   "execution_count": 307,
   "metadata": {},
   "outputs": [
    {
     "data": {
      "text/plain": [
       "{0: [0, 1, 3, 7, 11, 14, 27, 28, 30],\n",
       " 1: [5, 6],\n",
       " 2: [8, 12, 15, 16, 20, 21, 22, 26, 29],\n",
       " 3: [2, 4, 9, 13, 17, 18, 23, 25],\n",
       " 4: [10, 19, 24]}"
      ]
     },
     "execution_count": 307,
     "metadata": {},
     "output_type": "execute_result"
    }
   ],
   "source": [
    "knn.cluster(doc_headers, scorer.nnc_normalize(vecs[doc_headers], vecs['df']))"
   ]
  },
  {
   "cell_type": "code",
   "execution_count": 308,
   "metadata": {},
   "outputs": [
    {
     "data": {
      "text/plain": [
       "{0: {'follower': ['SMU CSE 5337/7337 Spring 2018 Schedule',\n",
       "   'SMU CSE 5/7337 Spring 2018 Textfiles',\n",
       "   'This is the magic file',\n",
       "   'baseball4',\n",
       "   'golf2',\n",
       "   'CSE 7337 Spring 2018 distance students exam 1 location',\n",
       "   'CSE 5337/7337 User-Agent',\n",
       "   'Porter Stemmer Online'],\n",
       "  'leader': 'Freeman Moore - SMU Spring 2018'},\n",
       " 1: {'follower': ['building1'], 'leader': 'building2'},\n",
       " 2: {'follower': ['SMU CSE 5/7337 Spring 2018 text files\"',\n",
       "   'baseball5',\n",
       "   'Mockingbird part 5',\n",
       "   'Mockingbird part 3',\n",
       "   'Mockingbird part 2',\n",
       "   'Mockingbird novel part 1'],\n",
       "  'leader': 'Mockingbird part 4'},\n",
       " 3: {'follower': ['basketball1',\n",
       "   'baseball3',\n",
       "   'basketball5',\n",
       "   'basketball4',\n",
       "   'basketball2',\n",
       "   'golf4',\n",
       "   'golf1',\n",
       "   'Levenshtein Distance demo'],\n",
       "  'leader': 'basketball3'},\n",
       " 4: {'follower': ['baseball2', 'golf3', 'baseball1'], 'leader': 'golf5'}}"
      ]
     },
     "execution_count": 308,
     "metadata": {},
     "output_type": "execute_result"
    }
   ],
   "source": [
    "make_legible()"
   ]
  },
  {
   "cell_type": "code",
   "execution_count": 235,
   "metadata": {},
   "outputs": [],
   "source": [
    "titles_previews = pd.read_csv('title_preview.csv')"
   ]
  },
  {
   "cell_type": "code",
   "execution_count": 236,
   "metadata": {},
   "outputs": [],
   "source": [
    "tp = titles_previews.copy()"
   ]
  },
  {
   "cell_type": "code",
   "execution_count": 237,
   "metadata": {},
   "outputs": [],
   "source": [
    "cluster_hierarchy = knn.cluster_hierarchy()"
   ]
  },
  {
   "cell_type": "code",
   "execution_count": 267,
   "metadata": {},
   "outputs": [
    {
     "data": {
      "text/plain": [
       "{0: {'followers': [0, 1, 7, 11, 14, 27, 28, 30], 'leader': 3},\n",
       " 1: {'followers': [6], 'leader': 5},\n",
       " 2: {'followers': [8, 12, 16, 20, 21, 22, 26, 29], 'leader': 15},\n",
       " 3: {'followers': [2, 4, 13, 17, 18, 23, 25], 'leader': 9},\n",
       " 4: {'followers': [10, 24], 'leader': 19}}"
      ]
     },
     "execution_count": 267,
     "metadata": {},
     "output_type": "execute_result"
    }
   ],
   "source": [
    "knn.cluster_hierarchy()"
   ]
  },
  {
   "cell_type": "code",
   "execution_count": 266,
   "metadata": {},
   "outputs": [
    {
     "data": {
      "text/plain": [
       "{0: {'followers': [1, 2, 7, 14, 25, 27, 28, 30], 'leader': 0},\n",
       " 1: {'followers': [6], 'leader': 5},\n",
       " 2: {'followers': [3, 4, 8, 10, 11, 13], 'leader': 9},\n",
       " 3: {'followers': [12, 15, 17, 18, 22, 24, 26, 29], 'leader': 21},\n",
       " 4: {'followers': [16, 19, 20], 'leader': 23}}"
      ]
     },
     "execution_count": 266,
     "metadata": {},
     "output_type": "execute_result"
    }
   ],
   "source": [
    "cluster_hierarchy"
   ]
  },
  {
   "cell_type": "code",
   "execution_count": 240,
   "metadata": {},
   "outputs": [],
   "source": [
    "leaders_idx = [cluster_hierarchy[cluster]['leader'] for cluster in cluster_hierarchy]\n",
    "leaders = [scorer.doc_headers[idx] for idx in leaders_idx]\n",
    "followers_idx = [cluster_hierarchy[cluster]['followers'] for cluster in cluster_hierarchy]"
   ]
  },
  {
   "cell_type": "code",
   "execution_count": 103,
   "metadata": {},
   "outputs": [],
   "source": [
    "def make_legible():\n",
    "    legible_hier = dict()\n",
    "    def get_title_by_idx(idx):\n",
    "        header = doc_headers[idx]\n",
    "        table = tp\n",
    "        table = table[table['Document'] == header]\n",
    "        return table['title'].values[0]\n",
    "    for cluster in range(len(leaders_idx)):\n",
    "        leader = get_title_by_idx(leaders_idx[cluster])\n",
    "        followers = [get_title_by_idx(follower_id) for follower_id in followers_idx[cluster]]\n",
    "        legible_hier[cluster] = dict()\n",
    "        legible_hier[cluster]['leader'] = str(leader)\n",
    "        legible_hier[cluster]['follower'] = [str(follower) for follower in followers]\n",
    "    return legible_hier"
   ]
  },
  {
   "cell_type": "code",
   "execution_count": 244,
   "metadata": {},
   "outputs": [
    {
     "data": {
      "text/plain": [
       "{0: {'follower': ['SMU CSE 5337/7337 Spring 2018 Schedule',\n",
       "   'SMU CSE 5/7337 Spring 2018 Textfiles',\n",
       "   'This is the magic file',\n",
       "   'baseball4',\n",
       "   'golf2',\n",
       "   'CSE 7337 Spring 2018 distance students exam 1 location',\n",
       "   'CSE 5337/7337 User-Agent',\n",
       "   'Porter Stemmer Online'],\n",
       "  'leader': 'Freeman Moore - SMU Spring 2018'},\n",
       " 1: {'follower': ['building1'], 'leader': 'building2'},\n",
       " 2: {'follower': ['SMU CSE 5/7337 Spring 2018 text files\"',\n",
       "   'baseball5',\n",
       "   'Mockingbird part 5',\n",
       "   'Mockingbird part 3',\n",
       "   'Mockingbird part 2',\n",
       "   'Mockingbird novel part 1'],\n",
       "  'leader': 'Mockingbird part 4'},\n",
       " 3: {'follower': ['basketball1',\n",
       "   'baseball3',\n",
       "   'basketball5',\n",
       "   'basketball4',\n",
       "   'basketball2',\n",
       "   'golf4',\n",
       "   'golf1',\n",
       "   'Levenshtein Distance demo'],\n",
       "  'leader': 'basketball3'},\n",
       " 4: {'follower': ['baseball2', 'golf3', 'baseball1'], 'leader': 'golf5'}}"
      ]
     },
     "execution_count": 244,
     "metadata": {},
     "output_type": "execute_result"
    }
   ],
   "source": [
    "make_legible()"
   ]
  },
  {
   "cell_type": "code",
   "execution_count": 268,
   "metadata": {},
   "outputs": [],
   "source": [
    "legible = make_legible()"
   ]
  },
  {
   "cell_type": "code",
   "execution_count": 274,
   "metadata": {},
   "outputs": [
    {
     "ename": "NameError",
     "evalue": "name 'scores' is not defined",
     "output_type": "error",
     "traceback": [
      "\u001b[0;31m---------------------------------------------------------------------------\u001b[0m",
      "\u001b[0;31mNameError\u001b[0m                                 Traceback (most recent call last)",
      "\u001b[0;32m<ipython-input-274-fa8cef49474b>\u001b[0m in \u001b[0;36m<module>\u001b[0;34m()\u001b[0m\n\u001b[0;32m----> 1\u001b[0;31m \u001b[0mscores\u001b[0m\u001b[0;34m\u001b[0m\u001b[0m\n\u001b[0m",
      "\u001b[0;31mNameError\u001b[0m: name 'scores' is not defined"
     ]
    }
   ],
   "source": [
    "scores"
   ]
  },
  {
   "cell_type": "code",
   "execution_count": 273,
   "metadata": {},
   "outputs": [
    {
     "name": "stdout",
     "output_type": "stream",
     "text": [
      "cluster 0\n",
      "leader: Freeman Moore - SMU Spring 2018\n",
      "followers: ['SMU CSE 5337/7337 Spring 2018 Schedule', 'SMU CSE 5/7337 Spring 2018 Textfiles', 'This is the magic file', 'baseball4', 'golf2', 'CSE 7337 Spring 2018 distance students exam 1 location', 'CSE 5337/7337 User-Agent', 'Porter Stemmer Online']\n",
      "\n",
      "cluster 1\n",
      "leader: building2\n",
      "followers: ['building1']\n",
      "\n",
      "cluster 2\n",
      "leader: Mockingbird part 4\n",
      "followers: ['SMU CSE 5/7337 Spring 2018 text files\"', 'baseball5', 'Mockingbird part 5', 'Mockingbird part 3', 'Mockingbird part 2', 'Mockingbird novel part 1']\n",
      "\n",
      "cluster 3\n",
      "leader: basketball3\n",
      "followers: ['basketball1', 'baseball3', 'basketball5', 'basketball4', 'basketball2', 'golf4', 'golf1', 'Levenshtein Distance demo']\n",
      "\n",
      "cluster 4\n",
      "leader: golf5\n",
      "followers: ['baseball2', 'golf3', 'baseball1']\n",
      "\n"
     ]
    }
   ],
   "source": [
    "a"
   ]
  },
  {
   "cell_type": "code",
   "execution_count": 287,
   "metadata": {},
   "outputs": [],
   "source": [
    "docs = vecs.loc[:4, doc_headers[:7]]"
   ]
  },
  {
   "cell_type": "code",
   "execution_count": 288,
   "metadata": {
    "scrolled": true
   },
   "outputs": [
    {
     "data": {
      "text/html": [
       "<div>\n",
       "<style scoped>\n",
       "    .dataframe tbody tr th:only-of-type {\n",
       "        vertical-align: middle;\n",
       "    }\n",
       "\n",
       "    .dataframe tbody tr th {\n",
       "        vertical-align: top;\n",
       "    }\n",
       "\n",
       "    .dataframe thead th {\n",
       "        text-align: right;\n",
       "    }\n",
       "</style>\n",
       "<table border=\"1\" class=\"dataframe\">\n",
       "  <thead>\n",
       "    <tr style=\"text-align: right;\">\n",
       "      <th></th>\n",
       "      <th>Document 1</th>\n",
       "      <th>Document 2</th>\n",
       "      <th>Document 3</th>\n",
       "      <th>Document 4</th>\n",
       "      <th>Document 5</th>\n",
       "      <th>Document 6</th>\n",
       "      <th>Document 7</th>\n",
       "    </tr>\n",
       "  </thead>\n",
       "  <tbody>\n",
       "    <tr>\n",
       "      <th>0</th>\n",
       "      <td>1</td>\n",
       "      <td>0</td>\n",
       "      <td>0</td>\n",
       "      <td>0</td>\n",
       "      <td>0</td>\n",
       "      <td>0</td>\n",
       "      <td>0</td>\n",
       "    </tr>\n",
       "    <tr>\n",
       "      <th>1</th>\n",
       "      <td>2</td>\n",
       "      <td>1</td>\n",
       "      <td>0</td>\n",
       "      <td>0</td>\n",
       "      <td>2</td>\n",
       "      <td>0</td>\n",
       "      <td>0</td>\n",
       "    </tr>\n",
       "    <tr>\n",
       "      <th>2</th>\n",
       "      <td>1</td>\n",
       "      <td>1</td>\n",
       "      <td>0</td>\n",
       "      <td>0</td>\n",
       "      <td>0</td>\n",
       "      <td>0</td>\n",
       "      <td>0</td>\n",
       "    </tr>\n",
       "    <tr>\n",
       "      <th>3</th>\n",
       "      <td>1</td>\n",
       "      <td>0</td>\n",
       "      <td>0</td>\n",
       "      <td>0</td>\n",
       "      <td>0</td>\n",
       "      <td>0</td>\n",
       "      <td>0</td>\n",
       "    </tr>\n",
       "    <tr>\n",
       "      <th>4</th>\n",
       "      <td>1</td>\n",
       "      <td>2</td>\n",
       "      <td>1</td>\n",
       "      <td>1</td>\n",
       "      <td>0</td>\n",
       "      <td>0</td>\n",
       "      <td>0</td>\n",
       "    </tr>\n",
       "  </tbody>\n",
       "</table>\n",
       "</div>"
      ],
      "text/plain": [
       "   Document 1  Document 2  Document 3  Document 4  Document 5  Document 6  \\\n",
       "0           1           0           0           0           0           0   \n",
       "1           2           1           0           0           2           0   \n",
       "2           1           1           0           0           0           0   \n",
       "3           1           0           0           0           0           0   \n",
       "4           1           2           1           1           0           0   \n",
       "\n",
       "   Document 7  \n",
       "0           0  \n",
       "1           0  \n",
       "2           0  \n",
       "3           0  \n",
       "4           0  "
      ]
     },
     "execution_count": 288,
     "metadata": {},
     "output_type": "execute_result"
    }
   ],
   "source": [
    "docs"
   ]
  },
  {
   "cell_type": "code",
   "execution_count": 289,
   "metadata": {},
   "outputs": [],
   "source": [
    "docs.columns = list(map(lambda x: 'd'+str(x), np.arange(7)))"
   ]
  },
  {
   "cell_type": "code",
   "execution_count": 290,
   "metadata": {},
   "outputs": [],
   "source": [
    "docs['d1'] = [1, 9, 4, 7.375, 8]\n",
    "docs['d2'] = [1, 9, 4, 5.875, 8]\n",
    "docs['d3'] = [1, 8, 3, 6, 8]\n",
    "docs['d4'] = [2, 13, 9, 10.83333, 6]\n",
    "docs['d5'] = [2, 12, 2, 7.333333, 6]\n",
    "docs['d6'] = [2, 14, 4, 8.25, 8]\n",
    "docs['d7'] = [3, 8, 4, 6, 4]"
   ]
  },
  {
   "cell_type": "code",
   "execution_count": 133,
   "metadata": {},
   "outputs": [],
   "source": [
    "docs.columns = ['d1', 'd2', 'd3', 'd4']"
   ]
  },
  {
   "cell_type": "code",
   "execution_count": 168,
   "metadata": {},
   "outputs": [
    {
     "data": {
      "text/plain": [
       "0    1\n",
       "1    1\n",
       "2    1\n",
       "3    1\n",
       "Name: d1, dtype: object"
      ]
     },
     "execution_count": 168,
     "metadata": {},
     "output_type": "execute_result"
    }
   ],
   "source": [
    "docs['d1']"
   ]
  },
  {
   "cell_type": "code",
   "execution_count": 291,
   "metadata": {
    "scrolled": true
   },
   "outputs": [
    {
     "data": {
      "text/html": [
       "<div>\n",
       "<style scoped>\n",
       "    .dataframe tbody tr th:only-of-type {\n",
       "        vertical-align: middle;\n",
       "    }\n",
       "\n",
       "    .dataframe tbody tr th {\n",
       "        vertical-align: top;\n",
       "    }\n",
       "\n",
       "    .dataframe thead th {\n",
       "        text-align: right;\n",
       "    }\n",
       "</style>\n",
       "<table border=\"1\" class=\"dataframe\">\n",
       "  <thead>\n",
       "    <tr style=\"text-align: right;\">\n",
       "      <th></th>\n",
       "      <th>d0</th>\n",
       "      <th>d1</th>\n",
       "      <th>d2</th>\n",
       "      <th>d3</th>\n",
       "      <th>d4</th>\n",
       "      <th>d5</th>\n",
       "      <th>d6</th>\n",
       "      <th>d7</th>\n",
       "    </tr>\n",
       "  </thead>\n",
       "  <tbody>\n",
       "    <tr>\n",
       "      <th>0</th>\n",
       "      <td>1</td>\n",
       "      <td>1.000</td>\n",
       "      <td>1.000</td>\n",
       "      <td>1</td>\n",
       "      <td>2.00000</td>\n",
       "      <td>2.000000</td>\n",
       "      <td>2.00</td>\n",
       "      <td>3</td>\n",
       "    </tr>\n",
       "    <tr>\n",
       "      <th>1</th>\n",
       "      <td>2</td>\n",
       "      <td>9.000</td>\n",
       "      <td>9.000</td>\n",
       "      <td>8</td>\n",
       "      <td>13.00000</td>\n",
       "      <td>12.000000</td>\n",
       "      <td>14.00</td>\n",
       "      <td>8</td>\n",
       "    </tr>\n",
       "    <tr>\n",
       "      <th>2</th>\n",
       "      <td>1</td>\n",
       "      <td>4.000</td>\n",
       "      <td>4.000</td>\n",
       "      <td>3</td>\n",
       "      <td>9.00000</td>\n",
       "      <td>2.000000</td>\n",
       "      <td>4.00</td>\n",
       "      <td>4</td>\n",
       "    </tr>\n",
       "    <tr>\n",
       "      <th>3</th>\n",
       "      <td>1</td>\n",
       "      <td>7.375</td>\n",
       "      <td>5.875</td>\n",
       "      <td>6</td>\n",
       "      <td>10.83333</td>\n",
       "      <td>7.333333</td>\n",
       "      <td>8.25</td>\n",
       "      <td>6</td>\n",
       "    </tr>\n",
       "    <tr>\n",
       "      <th>4</th>\n",
       "      <td>1</td>\n",
       "      <td>8.000</td>\n",
       "      <td>8.000</td>\n",
       "      <td>8</td>\n",
       "      <td>6.00000</td>\n",
       "      <td>6.000000</td>\n",
       "      <td>8.00</td>\n",
       "      <td>4</td>\n",
       "    </tr>\n",
       "  </tbody>\n",
       "</table>\n",
       "</div>"
      ],
      "text/plain": [
       "   d0     d1     d2  d3        d4         d5     d6  d7\n",
       "0   1  1.000  1.000   1   2.00000   2.000000   2.00   3\n",
       "1   2  9.000  9.000   8  13.00000  12.000000  14.00   8\n",
       "2   1  4.000  4.000   3   9.00000   2.000000   4.00   4\n",
       "3   1  7.375  5.875   6  10.83333   7.333333   8.25   6\n",
       "4   1  8.000  8.000   8   6.00000   6.000000   8.00   4"
      ]
     },
     "execution_count": 291,
     "metadata": {},
     "output_type": "execute_result"
    }
   ],
   "source": [
    "docs"
   ]
  },
  {
   "cell_type": "code",
   "execution_count": 295,
   "metadata": {},
   "outputs": [],
   "source": [
    "knn = KNN(2)"
   ]
  },
  {
   "cell_type": "code",
   "execution_count": 296,
   "metadata": {
    "scrolled": false
   },
   "outputs": [
    {
     "data": {
      "text/plain": [
       "{0: [0], 1: [1, 2, 3, 4, 5, 6, 7]}"
      ]
     },
     "execution_count": 296,
     "metadata": {},
     "output_type": "execute_result"
    }
   ],
   "source": [
    "knn.cluster(docs.columns, docs)"
   ]
  },
  {
   "cell_type": "code",
   "execution_count": 297,
   "metadata": {},
   "outputs": [],
   "source": [
    "test_data = pd.read_csv('test_data.csv')"
   ]
  },
  {
   "cell_type": "code",
   "execution_count": 298,
   "metadata": {},
   "outputs": [],
   "source": [
    "td = test_data.iloc[:, :-1].copy()"
   ]
  },
  {
   "cell_type": "code",
   "execution_count": 299,
   "metadata": {},
   "outputs": [
    {
     "data": {
      "text/html": [
       "<div>\n",
       "<style scoped>\n",
       "    .dataframe tbody tr th:only-of-type {\n",
       "        vertical-align: middle;\n",
       "    }\n",
       "\n",
       "    .dataframe tbody tr th {\n",
       "        vertical-align: top;\n",
       "    }\n",
       "\n",
       "    .dataframe thead th {\n",
       "        text-align: right;\n",
       "    }\n",
       "</style>\n",
       "<table border=\"1\" class=\"dataframe\">\n",
       "  <thead>\n",
       "    <tr style=\"text-align: right;\">\n",
       "      <th></th>\n",
       "      <th>tf doc1</th>\n",
       "      <th>tf doc2</th>\n",
       "      <th>tf doc3</th>\n",
       "      <th>tf doc4</th>\n",
       "      <th>tf doc5</th>\n",
       "      <th>tf doc6</th>\n",
       "      <th>tf doc7</th>\n",
       "      <th>tf doc8</th>\n",
       "      <th>tf doc9</th>\n",
       "      <th>tf doc10</th>\n",
       "      <th>tf doc11</th>\n",
       "    </tr>\n",
       "  </thead>\n",
       "  <tbody>\n",
       "    <tr>\n",
       "      <th>0</th>\n",
       "      <td>1</td>\n",
       "      <td>0</td>\n",
       "      <td>0</td>\n",
       "      <td>0</td>\n",
       "      <td>0</td>\n",
       "      <td>0</td>\n",
       "      <td>0</td>\n",
       "      <td>0</td>\n",
       "      <td>0</td>\n",
       "      <td>0</td>\n",
       "      <td>0</td>\n",
       "    </tr>\n",
       "    <tr>\n",
       "      <th>1</th>\n",
       "      <td>1</td>\n",
       "      <td>0</td>\n",
       "      <td>0</td>\n",
       "      <td>0</td>\n",
       "      <td>0</td>\n",
       "      <td>1</td>\n",
       "      <td>0</td>\n",
       "      <td>0</td>\n",
       "      <td>0</td>\n",
       "      <td>0</td>\n",
       "      <td>0</td>\n",
       "    </tr>\n",
       "    <tr>\n",
       "      <th>2</th>\n",
       "      <td>1</td>\n",
       "      <td>1</td>\n",
       "      <td>0</td>\n",
       "      <td>1</td>\n",
       "      <td>0</td>\n",
       "      <td>0</td>\n",
       "      <td>0</td>\n",
       "      <td>0</td>\n",
       "      <td>0</td>\n",
       "      <td>0</td>\n",
       "      <td>0</td>\n",
       "    </tr>\n",
       "    <tr>\n",
       "      <th>3</th>\n",
       "      <td>1</td>\n",
       "      <td>0</td>\n",
       "      <td>1</td>\n",
       "      <td>0</td>\n",
       "      <td>0</td>\n",
       "      <td>0</td>\n",
       "      <td>0</td>\n",
       "      <td>0</td>\n",
       "      <td>0</td>\n",
       "      <td>0</td>\n",
       "      <td>0</td>\n",
       "    </tr>\n",
       "    <tr>\n",
       "      <th>4</th>\n",
       "      <td>0</td>\n",
       "      <td>1</td>\n",
       "      <td>1</td>\n",
       "      <td>0</td>\n",
       "      <td>0</td>\n",
       "      <td>0</td>\n",
       "      <td>0</td>\n",
       "      <td>0</td>\n",
       "      <td>0</td>\n",
       "      <td>0</td>\n",
       "      <td>0</td>\n",
       "    </tr>\n",
       "    <tr>\n",
       "      <th>5</th>\n",
       "      <td>0</td>\n",
       "      <td>1</td>\n",
       "      <td>0</td>\n",
       "      <td>0</td>\n",
       "      <td>0</td>\n",
       "      <td>0</td>\n",
       "      <td>0</td>\n",
       "      <td>0</td>\n",
       "      <td>0</td>\n",
       "      <td>0</td>\n",
       "      <td>0</td>\n",
       "    </tr>\n",
       "    <tr>\n",
       "      <th>6</th>\n",
       "      <td>0</td>\n",
       "      <td>0</td>\n",
       "      <td>1</td>\n",
       "      <td>0</td>\n",
       "      <td>0</td>\n",
       "      <td>0</td>\n",
       "      <td>0</td>\n",
       "      <td>0</td>\n",
       "      <td>0</td>\n",
       "      <td>0</td>\n",
       "      <td>0</td>\n",
       "    </tr>\n",
       "    <tr>\n",
       "      <th>7</th>\n",
       "      <td>0</td>\n",
       "      <td>0</td>\n",
       "      <td>0</td>\n",
       "      <td>1</td>\n",
       "      <td>1</td>\n",
       "      <td>0</td>\n",
       "      <td>0</td>\n",
       "      <td>0</td>\n",
       "      <td>0</td>\n",
       "      <td>0</td>\n",
       "      <td>0</td>\n",
       "    </tr>\n",
       "    <tr>\n",
       "      <th>8</th>\n",
       "      <td>0</td>\n",
       "      <td>0</td>\n",
       "      <td>0</td>\n",
       "      <td>0</td>\n",
       "      <td>1</td>\n",
       "      <td>0</td>\n",
       "      <td>0</td>\n",
       "      <td>0</td>\n",
       "      <td>0</td>\n",
       "      <td>0</td>\n",
       "      <td>0</td>\n",
       "    </tr>\n",
       "    <tr>\n",
       "      <th>9</th>\n",
       "      <td>0</td>\n",
       "      <td>0</td>\n",
       "      <td>0</td>\n",
       "      <td>0</td>\n",
       "      <td>0</td>\n",
       "      <td>1</td>\n",
       "      <td>1</td>\n",
       "      <td>0</td>\n",
       "      <td>1</td>\n",
       "      <td>1</td>\n",
       "      <td>0</td>\n",
       "    </tr>\n",
       "    <tr>\n",
       "      <th>10</th>\n",
       "      <td>0</td>\n",
       "      <td>0</td>\n",
       "      <td>0</td>\n",
       "      <td>0</td>\n",
       "      <td>0</td>\n",
       "      <td>0</td>\n",
       "      <td>1</td>\n",
       "      <td>1</td>\n",
       "      <td>1</td>\n",
       "      <td>0</td>\n",
       "      <td>0</td>\n",
       "    </tr>\n",
       "    <tr>\n",
       "      <th>11</th>\n",
       "      <td>0</td>\n",
       "      <td>0</td>\n",
       "      <td>0</td>\n",
       "      <td>0</td>\n",
       "      <td>0</td>\n",
       "      <td>0</td>\n",
       "      <td>0</td>\n",
       "      <td>1</td>\n",
       "      <td>0</td>\n",
       "      <td>0</td>\n",
       "      <td>0</td>\n",
       "    </tr>\n",
       "    <tr>\n",
       "      <th>12</th>\n",
       "      <td>0</td>\n",
       "      <td>0</td>\n",
       "      <td>0</td>\n",
       "      <td>0</td>\n",
       "      <td>0</td>\n",
       "      <td>0</td>\n",
       "      <td>0</td>\n",
       "      <td>1</td>\n",
       "      <td>0</td>\n",
       "      <td>0</td>\n",
       "      <td>0</td>\n",
       "    </tr>\n",
       "    <tr>\n",
       "      <th>13</th>\n",
       "      <td>0</td>\n",
       "      <td>0</td>\n",
       "      <td>0</td>\n",
       "      <td>0</td>\n",
       "      <td>0</td>\n",
       "      <td>0</td>\n",
       "      <td>0</td>\n",
       "      <td>0</td>\n",
       "      <td>1</td>\n",
       "      <td>0</td>\n",
       "      <td>0</td>\n",
       "    </tr>\n",
       "    <tr>\n",
       "      <th>14</th>\n",
       "      <td>0</td>\n",
       "      <td>0</td>\n",
       "      <td>0</td>\n",
       "      <td>0</td>\n",
       "      <td>0</td>\n",
       "      <td>0</td>\n",
       "      <td>0</td>\n",
       "      <td>0</td>\n",
       "      <td>0</td>\n",
       "      <td>1</td>\n",
       "      <td>1</td>\n",
       "    </tr>\n",
       "    <tr>\n",
       "      <th>15</th>\n",
       "      <td>0</td>\n",
       "      <td>0</td>\n",
       "      <td>0</td>\n",
       "      <td>0</td>\n",
       "      <td>0</td>\n",
       "      <td>0</td>\n",
       "      <td>0</td>\n",
       "      <td>0</td>\n",
       "      <td>0</td>\n",
       "      <td>1</td>\n",
       "      <td>0</td>\n",
       "    </tr>\n",
       "    <tr>\n",
       "      <th>16</th>\n",
       "      <td>0</td>\n",
       "      <td>0</td>\n",
       "      <td>0</td>\n",
       "      <td>0</td>\n",
       "      <td>0</td>\n",
       "      <td>0</td>\n",
       "      <td>0</td>\n",
       "      <td>0</td>\n",
       "      <td>0</td>\n",
       "      <td>0</td>\n",
       "      <td>1</td>\n",
       "    </tr>\n",
       "    <tr>\n",
       "      <th>17</th>\n",
       "      <td>0</td>\n",
       "      <td>0</td>\n",
       "      <td>0</td>\n",
       "      <td>0</td>\n",
       "      <td>0</td>\n",
       "      <td>0</td>\n",
       "      <td>0</td>\n",
       "      <td>0</td>\n",
       "      <td>0</td>\n",
       "      <td>0</td>\n",
       "      <td>1</td>\n",
       "    </tr>\n",
       "  </tbody>\n",
       "</table>\n",
       "</div>"
      ],
      "text/plain": [
       "    tf doc1  tf doc2  tf doc3  tf doc4  tf doc5  tf doc6  tf doc7  tf doc8  \\\n",
       "0         1        0        0        0        0        0        0        0   \n",
       "1         1        0        0        0        0        1        0        0   \n",
       "2         1        1        0        1        0        0        0        0   \n",
       "3         1        0        1        0        0        0        0        0   \n",
       "4         0        1        1        0        0        0        0        0   \n",
       "5         0        1        0        0        0        0        0        0   \n",
       "6         0        0        1        0        0        0        0        0   \n",
       "7         0        0        0        1        1        0        0        0   \n",
       "8         0        0        0        0        1        0        0        0   \n",
       "9         0        0        0        0        0        1        1        0   \n",
       "10        0        0        0        0        0        0        1        1   \n",
       "11        0        0        0        0        0        0        0        1   \n",
       "12        0        0        0        0        0        0        0        1   \n",
       "13        0        0        0        0        0        0        0        0   \n",
       "14        0        0        0        0        0        0        0        0   \n",
       "15        0        0        0        0        0        0        0        0   \n",
       "16        0        0        0        0        0        0        0        0   \n",
       "17        0        0        0        0        0        0        0        0   \n",
       "\n",
       "    tf doc9  tf doc10  tf doc11  \n",
       "0         0         0         0  \n",
       "1         0         0         0  \n",
       "2         0         0         0  \n",
       "3         0         0         0  \n",
       "4         0         0         0  \n",
       "5         0         0         0  \n",
       "6         0         0         0  \n",
       "7         0         0         0  \n",
       "8         0         0         0  \n",
       "9         1         1         0  \n",
       "10        1         0         0  \n",
       "11        0         0         0  \n",
       "12        0         0         0  \n",
       "13        1         0         0  \n",
       "14        0         1         1  \n",
       "15        0         1         0  \n",
       "16        0         0         1  \n",
       "17        0         0         1  "
      ]
     },
     "execution_count": 299,
     "metadata": {},
     "output_type": "execute_result"
    }
   ],
   "source": [
    "td"
   ]
  },
  {
   "cell_type": "code",
   "execution_count": 300,
   "metadata": {},
   "outputs": [],
   "source": [
    "knn_test = KNN(2)"
   ]
  },
  {
   "cell_type": "code",
   "execution_count": 301,
   "metadata": {},
   "outputs": [
    {
     "data": {
      "text/plain": [
       "{0: [0, 1, 2, 3], 1: [4, 5, 6, 7, 8, 9, 10]}"
      ]
     },
     "execution_count": 301,
     "metadata": {},
     "output_type": "execute_result"
    }
   ],
   "source": [
    "knn_test.cluster(td.columns, td)"
   ]
  }
 ],
 "metadata": {
  "kernelspec": {
   "display_name": "Python 3",
   "language": "python",
   "name": "python3"
  },
  "language_info": {
   "codemirror_mode": {
    "name": "ipython",
    "version": 3
   },
   "file_extension": ".py",
   "mimetype": "text/x-python",
   "name": "python",
   "nbconvert_exporter": "python",
   "pygments_lexer": "ipython3",
   "version": "3.6.4"
  }
 },
 "nbformat": 4,
 "nbformat_minor": 2
}
