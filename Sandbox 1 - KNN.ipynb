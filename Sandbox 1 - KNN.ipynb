{
 "cells": [
  {
   "cell_type": "code",
   "execution_count": 2,
   "metadata": {},
   "outputs": [],
   "source": [
    "import pandas as pd"
   ]
  },
  {
   "cell_type": "code",
   "execution_count": 3,
   "metadata": {},
   "outputs": [],
   "source": [
    "df = pd.read_csv('tf-df.csv')"
   ]
  },
  {
   "cell_type": "code",
   "execution_count": 4,
   "metadata": {},
   "outputs": [
    {
     "data": {
      "text/html": [
       "<div>\n",
       "<style scoped>\n",
       "    .dataframe tbody tr th:only-of-type {\n",
       "        vertical-align: middle;\n",
       "    }\n",
       "\n",
       "    .dataframe tbody tr th {\n",
       "        vertical-align: top;\n",
       "    }\n",
       "\n",
       "    .dataframe thead th {\n",
       "        text-align: right;\n",
       "    }\n",
       "</style>\n",
       "<table border=\"1\" class=\"dataframe\">\n",
       "  <thead>\n",
       "    <tr style=\"text-align: right;\">\n",
       "      <th></th>\n",
       "      <th>word</th>\n",
       "      <th>Document 1</th>\n",
       "      <th>Document 2</th>\n",
       "      <th>Document 3</th>\n",
       "      <th>Document 4</th>\n",
       "      <th>Document 5</th>\n",
       "      <th>Document 6</th>\n",
       "      <th>Document 7</th>\n",
       "      <th>Document 8</th>\n",
       "      <th>Document 9</th>\n",
       "      <th>...</th>\n",
       "      <th>Document 28</th>\n",
       "      <th>Document 29</th>\n",
       "      <th>Document 30</th>\n",
       "      <th>Document 31</th>\n",
       "      <th>Document 32</th>\n",
       "      <th>Document 33</th>\n",
       "      <th>Document 34</th>\n",
       "      <th>Document 35</th>\n",
       "      <th>Document 36</th>\n",
       "      <th>df</th>\n",
       "    </tr>\n",
       "  </thead>\n",
       "  <tbody>\n",
       "    <tr>\n",
       "      <th>0</th>\n",
       "      <td>opinion</td>\n",
       "      <td>1</td>\n",
       "      <td>0</td>\n",
       "      <td>0</td>\n",
       "      <td>0</td>\n",
       "      <td>0</td>\n",
       "      <td>0</td>\n",
       "      <td>0</td>\n",
       "      <td>0</td>\n",
       "      <td>0</td>\n",
       "      <td>...</td>\n",
       "      <td>0</td>\n",
       "      <td>0</td>\n",
       "      <td>0</td>\n",
       "      <td>0</td>\n",
       "      <td>0</td>\n",
       "      <td>0</td>\n",
       "      <td>0</td>\n",
       "      <td>0</td>\n",
       "      <td>0</td>\n",
       "      <td>1</td>\n",
       "    </tr>\n",
       "    <tr>\n",
       "      <th>1</th>\n",
       "      <td>phd</td>\n",
       "      <td>1</td>\n",
       "      <td>0</td>\n",
       "      <td>0</td>\n",
       "      <td>0</td>\n",
       "      <td>0</td>\n",
       "      <td>0</td>\n",
       "      <td>0</td>\n",
       "      <td>0</td>\n",
       "      <td>0</td>\n",
       "      <td>...</td>\n",
       "      <td>0</td>\n",
       "      <td>0</td>\n",
       "      <td>0</td>\n",
       "      <td>0</td>\n",
       "      <td>0</td>\n",
       "      <td>0</td>\n",
       "      <td>0</td>\n",
       "      <td>0</td>\n",
       "      <td>0</td>\n",
       "      <td>1</td>\n",
       "    </tr>\n",
       "    <tr>\n",
       "      <th>2</th>\n",
       "      <td>latest</td>\n",
       "      <td>1</td>\n",
       "      <td>1</td>\n",
       "      <td>0</td>\n",
       "      <td>0</td>\n",
       "      <td>0</td>\n",
       "      <td>0</td>\n",
       "      <td>0</td>\n",
       "      <td>0</td>\n",
       "      <td>0</td>\n",
       "      <td>...</td>\n",
       "      <td>0</td>\n",
       "      <td>0</td>\n",
       "      <td>0</td>\n",
       "      <td>0</td>\n",
       "      <td>0</td>\n",
       "      <td>0</td>\n",
       "      <td>0</td>\n",
       "      <td>0</td>\n",
       "      <td>0</td>\n",
       "      <td>2</td>\n",
       "    </tr>\n",
       "    <tr>\n",
       "      <th>3</th>\n",
       "      <td>contact</td>\n",
       "      <td>1</td>\n",
       "      <td>0</td>\n",
       "      <td>0</td>\n",
       "      <td>0</td>\n",
       "      <td>0</td>\n",
       "      <td>0</td>\n",
       "      <td>0</td>\n",
       "      <td>0</td>\n",
       "      <td>0</td>\n",
       "      <td>...</td>\n",
       "      <td>0</td>\n",
       "      <td>0</td>\n",
       "      <td>0</td>\n",
       "      <td>0</td>\n",
       "      <td>0</td>\n",
       "      <td>0</td>\n",
       "      <td>0</td>\n",
       "      <td>0</td>\n",
       "      <td>0</td>\n",
       "      <td>1</td>\n",
       "    </tr>\n",
       "    <tr>\n",
       "      <th>4</th>\n",
       "      <td>inform</td>\n",
       "      <td>1</td>\n",
       "      <td>1</td>\n",
       "      <td>0</td>\n",
       "      <td>0</td>\n",
       "      <td>0</td>\n",
       "      <td>0</td>\n",
       "      <td>0</td>\n",
       "      <td>0</td>\n",
       "      <td>0</td>\n",
       "      <td>...</td>\n",
       "      <td>0</td>\n",
       "      <td>0</td>\n",
       "      <td>0</td>\n",
       "      <td>0</td>\n",
       "      <td>0</td>\n",
       "      <td>0</td>\n",
       "      <td>0</td>\n",
       "      <td>0</td>\n",
       "      <td>0</td>\n",
       "      <td>3</td>\n",
       "    </tr>\n",
       "  </tbody>\n",
       "</table>\n",
       "<p>5 rows × 38 columns</p>\n",
       "</div>"
      ],
      "text/plain": [
       "      word  Document 1  Document 2  Document 3  Document 4  Document 5  \\\n",
       "0  opinion           1           0           0           0           0   \n",
       "1      phd           1           0           0           0           0   \n",
       "2   latest           1           1           0           0           0   \n",
       "3  contact           1           0           0           0           0   \n",
       "4   inform           1           1           0           0           0   \n",
       "\n",
       "   Document 6  Document 7  Document 8  Document 9 ...  Document 28  \\\n",
       "0           0           0           0           0 ...            0   \n",
       "1           0           0           0           0 ...            0   \n",
       "2           0           0           0           0 ...            0   \n",
       "3           0           0           0           0 ...            0   \n",
       "4           0           0           0           0 ...            0   \n",
       "\n",
       "   Document 29  Document 30  Document 31  Document 32  Document 33  \\\n",
       "0            0            0            0            0            0   \n",
       "1            0            0            0            0            0   \n",
       "2            0            0            0            0            0   \n",
       "3            0            0            0            0            0   \n",
       "4            0            0            0            0            0   \n",
       "\n",
       "   Document 34  Document 35  Document 36  df  \n",
       "0            0            0            0   1  \n",
       "1            0            0            0   1  \n",
       "2            0            0            0   2  \n",
       "3            0            0            0   1  \n",
       "4            0            0            0   3  \n",
       "\n",
       "[5 rows x 38 columns]"
      ]
     },
     "execution_count": 4,
     "metadata": {},
     "output_type": "execute_result"
    }
   ],
   "source": [
    "df.head()"
   ]
  },
  {
   "cell_type": "code",
   "execution_count": 5,
   "metadata": {},
   "outputs": [],
   "source": [
    "doc_headers = [column for column in df.columns if column not in ['word', 'df']]"
   ]
  },
  {
   "cell_type": "code",
   "execution_count": 6,
   "metadata": {},
   "outputs": [],
   "source": [
    "vecs = pd.DataFrame(df)"
   ]
  },
  {
   "cell_type": "code",
   "execution_count": 7,
   "metadata": {},
   "outputs": [],
   "source": [
    "# ntc\n",
    "import numpy as np\n",
    "norm_doc_freq = np.log(len(doc_headers)/vecs['df'])"
   ]
  },
  {
   "cell_type": "code",
   "execution_count": 8,
   "metadata": {},
   "outputs": [],
   "source": [
    "# tf.df\n",
    "for doc in doc_headers:\n",
    "    vecs[doc] = vecs[doc] * norm_doc_freq"
   ]
  },
  {
   "cell_type": "code",
   "execution_count": 9,
   "metadata": {},
   "outputs": [],
   "source": [
    "# Cosine normalization:\n",
    "for doc in doc_headers:\n",
    "    sum_sq = np.sum(vecs[doc]**2)\n",
    "    vecs[doc] = vecs[doc]/sum_sq"
   ]
  },
  {
   "cell_type": "code",
   "execution_count": 10,
   "metadata": {},
   "outputs": [],
   "source": [
    "# KNN step a: randomly assign docs to clusters\n",
    "cluster_centroids = [vecs[doc_headers[no]] for no in range(5)]"
   ]
  },
  {
   "cell_type": "code",
   "execution_count": 11,
   "metadata": {},
   "outputs": [],
   "source": [
    "dist_matrix = np.zeros(shape=(len(doc_headers),len(cluster_centroids)), dtype=float)"
   ]
  },
  {
   "cell_type": "code",
   "execution_count": 12,
   "metadata": {},
   "outputs": [],
   "source": [
    "# Populate the distance-matrix\n",
    "for doc in range(len(doc_headers)):\n",
    "    for centroid in range(len(cluster_centroids)):\n",
    "        vec_difference = vecs[doc_headers[doc]] - cluster_centroids[centroid]\n",
    "        magnitude = np.sum(vec_difference**2)\n",
    "        dist_matrix[doc][centroid] = magnitude "
   ]
  },
  {
   "cell_type": "code",
   "execution_count": 13,
   "metadata": {},
   "outputs": [],
   "source": [
    "distances = np.apply_along_axis(np.argmin, 1, dist_matrix)"
   ]
  },
  {
   "cell_type": "code",
   "execution_count": 14,
   "metadata": {},
   "outputs": [],
   "source": [
    "# initialize the clusters\n",
    "clusters = dict()"
   ]
  },
  {
   "cell_type": "code",
   "execution_count": 15,
   "metadata": {},
   "outputs": [],
   "source": [
    "for i in range(5):\n",
    "    clusters[i] = []"
   ]
  },
  {
   "cell_type": "code",
   "execution_count": 16,
   "metadata": {},
   "outputs": [],
   "source": [
    "for doc in range(len(distances)):\n",
    "    nearest = distances[doc]\n",
    "    clusters[nearest].append(doc)"
   ]
  },
  {
   "cell_type": "code",
   "execution_count": 17,
   "metadata": {},
   "outputs": [],
   "source": [
    "# Get the vectors in cluster 1\n",
    "cluster_vectors = [vecs[doc_headers[doc_nos]] for doc_nos in clusters[1]]"
   ]
  },
  {
   "cell_type": "code",
   "execution_count": 18,
   "metadata": {},
   "outputs": [],
   "source": [
    "def get_centroids(clusters):\n",
    "    cluster_centroids = []\n",
    "    for i in clusters:\n",
    "        cluster_vectors = [vecs[doc_headers[doc_nos]] for doc_nos in clusters[i]]\n",
    "        centroid = np.sum(cluster_vectors, axis=0)/len(clusters[i])\n",
    "        cluster_centroids.append(centroid)\n",
    "    return cluster_centroids"
   ]
  },
  {
   "cell_type": "code",
   "execution_count": 19,
   "metadata": {},
   "outputs": [],
   "source": [
    "# Get a matrix of shape(docs x clusters) containing the distance of doc from each cluster centroid.\n",
    "def get_absolute_distances(doc_headers, cluster_centroids):\n",
    "    dist_matrix = np.zeros(shape=(len(doc_headers),len(cluster_centroids)), dtype=float)\n",
    "    for vec in range(len(doc_headers)):\n",
    "        for centroid in range(len(cluster_centroids)):\n",
    "            vec_difference = vecs[doc_headers[vec]] - cluster_centroids[centroid]\n",
    "            magnitude = np.sum(vec_difference**2)\n",
    "            dist_matrix[vec][centroid] = magnitude\n",
    "    return dist_matrix"
   ]
  },
  {
   "cell_type": "code",
   "execution_count": 20,
   "metadata": {},
   "outputs": [],
   "source": [
    "def get_clusters(dist_matrix):\n",
    "    clusters = dict()\n",
    "    for i in range(len(dist_matrix[0])):\n",
    "        clusters[i] = []\n",
    "    distances = np.apply_along_axis(np.argmin, 1, dist_matrix)\n",
    "    for doc in range(len(distances)):\n",
    "        nearest = distances[doc]\n",
    "        clusters[nearest].append(doc)\n",
    "    return clusters"
   ]
  },
  {
   "cell_type": "code",
   "execution_count": 21,
   "metadata": {},
   "outputs": [],
   "source": [
    "class KNN:\n",
    "    def __init__(self, N):\n",
    "        self.N = N\n",
    "    \n",
    "    def get_empty_clusters(self, N):\n",
    "        clusters = dict()\n",
    "        for i in range(N):\n",
    "            clusters[i] = []\n",
    "        return clusters\n",
    "    \n",
    "    def initialize_state(self, doc_headers, vecs):\n",
    "        self.doc_headers = doc_headers\n",
    "        self.vecs = vecs\n",
    "        self.clusters = self.get_empty_clusters(self.N)\n",
    "        \n",
    "        #indices = np.arange(len(doc_headers))\n",
    "        # np.random.shuffle(indices)\n",
    "        doc_count = len(doc_headers)\n",
    "        indices = np.arange(start=0, stop=doc_count, step=doc_count/self.N, dtype=np.int)\n",
    "        \n",
    "        for i in range(self.N):\n",
    "            self.clusters[i].append(indices[i])\n",
    "    \n",
    "    # Calculates the centroids given clusters\n",
    "    def get_centroids(self, clusters):\n",
    "        cluster_centroids = []\n",
    "        for i in clusters:\n",
    "            cluster_vectors = [self.vecs[self.doc_headers[doc_nos]] for doc_nos in clusters[i]]\n",
    "            #centroid = np.sum(cluster_vectors, axis=0)/len(clusters[i])\n",
    "            centroid = np.mean(cluster_vectors, axis=0)\n",
    "            cluster_centroids.append(centroid)\n",
    "        return cluster_centroids\n",
    "\n",
    "    # Get a matrix of shape(docs x clusters) containing the distance of doc from each cluster centroid.\n",
    "    def get_absolute_distances(self, doc_headers, cluster_centroids):\n",
    "        dist_matrix = np.zeros(shape=(len(doc_headers),len(cluster_centroids)), dtype=float)\n",
    "        for vec in range(len(doc_headers)):\n",
    "            for centroid in range(len(cluster_centroids)):\n",
    "                vec_difference = self.vecs[doc_headers[vec]] - cluster_centroids[centroid]\n",
    "                magnitude = np.sum(vec_difference**2)\n",
    "                dist_matrix[vec][centroid] = np.sqrt(magnitude)\n",
    "        return dist_matrix\n",
    "    \n",
    "    def get_clusters(self, dist_matrix):\n",
    "        clusters = self.get_empty_clusters(self.N)\n",
    "        distances = np.apply_along_axis(np.argmin, 1, dist_matrix)\n",
    "        for doc in range(len(distances)):\n",
    "            nearest = distances[doc]\n",
    "            clusters[nearest].append(doc)\n",
    "        return clusters\n",
    "    \n",
    "    def cluster_hierarchy(self):\n",
    "        clust_hier = dict()\n",
    "        clusters = self.clusters\n",
    "        for i in clusters:\n",
    "            clust_hier[i] = dict()\n",
    "            dist_from_centroid = self.dist_matrix[clusters[i], i]\n",
    "            closest = np.argmin(dist_from_centroid)\n",
    "            leader = clusters[i][closest]\n",
    "            clust_hier[i]['leader'] = leader\n",
    "            clust_hier[i]['followers'] = [doc for doc in clusters[i] if doc!=leader]\n",
    "        return clust_hier\n",
    "    \n",
    "    def cluster(self, doc_headers, vecs):\n",
    "        self.initialize_state(doc_headers, vecs)\n",
    "        self.clusters = self.iteration(self.clusters)\n",
    "        converged = False\n",
    "        \n",
    "        while(converged == False):\n",
    "            calculated_clusters = self.iteration(self.clusters)\n",
    "            converged = self.clusters == calculated_clusters\n",
    "            self.clusters = calculated_clusters\n",
    "        return calculated_clusters\n",
    "    \n",
    "    def iteration(self, clusters):\n",
    "        cluster_centroids = self.get_centroids(clusters)\n",
    "        self.dist_matrix = self.get_absolute_distances(self.doc_headers, cluster_centroids)\n",
    "        return self.get_clusters(self.dist_matrix)"
   ]
  },
  {
   "cell_type": "code",
   "execution_count": 22,
   "metadata": {},
   "outputs": [],
   "source": [
    "knn = KNN(5)"
   ]
  },
  {
   "cell_type": "code",
   "execution_count": 23,
   "metadata": {},
   "outputs": [],
   "source": [
    "import scorer"
   ]
  },
  {
   "cell_type": "code",
   "execution_count": 24,
   "metadata": {},
   "outputs": [],
   "source": [
    "vecs = df.copy()"
   ]
  },
  {
   "cell_type": "code",
   "execution_count": 25,
   "metadata": {},
   "outputs": [
    {
     "data": {
      "text/plain": [
       "{0: [0, 1, 5, 6, 34, 35],\n",
       " 1: [3, 7, 15],\n",
       " 2: [8, 9, 11, 13, 14, 31],\n",
       " 3: [2, 12, 19, 21, 23, 24, 29, 33],\n",
       " 4: [4, 10, 16, 17, 18, 20, 22, 25, 26, 27, 28, 30, 32]}"
      ]
     },
     "execution_count": 25,
     "metadata": {},
     "output_type": "execute_result"
    }
   ],
   "source": [
    "knn.cluster(doc_headers, scorer.nnc_normalize(vecs[doc_headers], vecs['df']))"
   ]
  },
  {
   "cell_type": "code",
   "execution_count": 27,
   "metadata": {
    "scrolled": false
   },
   "outputs": [
    {
     "ename": "NameError",
     "evalue": "name 'make_legible' is not defined",
     "output_type": "error",
     "traceback": [
      "\u001b[0;31m---------------------------------------------------------------------------\u001b[0m",
      "\u001b[0;31mNameError\u001b[0m                                 Traceback (most recent call last)",
      "\u001b[0;32m<ipython-input-27-f304262676bb>\u001b[0m in \u001b[0;36m<module>\u001b[0;34m()\u001b[0m\n\u001b[0;32m----> 1\u001b[0;31m \u001b[0mmake_legible\u001b[0m\u001b[0;34m(\u001b[0m\u001b[0;34m)\u001b[0m\u001b[0;34m\u001b[0m\u001b[0m\n\u001b[0m",
      "\u001b[0;31mNameError\u001b[0m: name 'make_legible' is not defined"
     ]
    }
   ],
   "source": [
    "make_legible()"
   ]
  },
  {
   "cell_type": "code",
   "execution_count": 28,
   "metadata": {},
   "outputs": [],
   "source": [
    "titles_previews = pd.read_csv('title_preview.csv')"
   ]
  },
  {
   "cell_type": "code",
   "execution_count": 29,
   "metadata": {},
   "outputs": [],
   "source": [
    "tp = titles_previews.copy()"
   ]
  },
  {
   "cell_type": "code",
   "execution_count": 30,
   "metadata": {},
   "outputs": [],
   "source": [
    "cluster_hierarchy = knn.cluster_hierarchy()"
   ]
  },
  {
   "cell_type": "code",
   "execution_count": 31,
   "metadata": {},
   "outputs": [
    {
     "data": {
      "text/plain": [
       "{0: {'followers': [0, 1, 6, 34, 35], 'leader': 5},\n",
       " 1: {'followers': [7, 15], 'leader': 3},\n",
       " 2: {'followers': [8, 11, 13, 14, 31], 'leader': 9},\n",
       " 3: {'followers': [12, 19, 21, 23, 24, 29, 33], 'leader': 2},\n",
       " 4: {'followers': [4, 10, 17, 18, 20, 22, 25, 26, 27, 28, 30, 32],\n",
       "  'leader': 16}}"
      ]
     },
     "execution_count": 31,
     "metadata": {},
     "output_type": "execute_result"
    }
   ],
   "source": [
    "knn.cluster_hierarchy()"
   ]
  },
  {
   "cell_type": "code",
   "execution_count": 32,
   "metadata": {},
   "outputs": [
    {
     "data": {
      "text/plain": [
       "{0: {'followers': [0, 1, 6, 34, 35], 'leader': 5},\n",
       " 1: {'followers': [7, 15], 'leader': 3},\n",
       " 2: {'followers': [8, 11, 13, 14, 31], 'leader': 9},\n",
       " 3: {'followers': [12, 19, 21, 23, 24, 29, 33], 'leader': 2},\n",
       " 4: {'followers': [4, 10, 17, 18, 20, 22, 25, 26, 27, 28, 30, 32],\n",
       "  'leader': 16}}"
      ]
     },
     "execution_count": 32,
     "metadata": {},
     "output_type": "execute_result"
    }
   ],
   "source": [
    "cluster_hierarchy"
   ]
  },
  {
   "cell_type": "code",
   "execution_count": 33,
   "metadata": {},
   "outputs": [],
   "source": [
    "leaders_idx = [cluster_hierarchy[cluster]['leader'] for cluster in cluster_hierarchy]\n",
    "leaders = [scorer.doc_headers[idx] for idx in leaders_idx]\n",
    "followers_idx = [cluster_hierarchy[cluster]['followers'] for cluster in cluster_hierarchy]"
   ]
  },
  {
   "cell_type": "code",
   "execution_count": 34,
   "metadata": {},
   "outputs": [],
   "source": [
    "def make_legible():\n",
    "    legible_hier = dict()\n",
    "    def get_title_by_idx(idx):\n",
    "        header = doc_headers[idx]\n",
    "        table = tp\n",
    "        table = table[table['Document'] == header]\n",
    "        return table['title'].values[0]\n",
    "    for cluster in range(len(leaders_idx)):\n",
    "        leader = get_title_by_idx(leaders_idx[cluster])\n",
    "        followers = [get_title_by_idx(follower_id) for follower_id in followers_idx[cluster]]\n",
    "        legible_hier[cluster] = dict()\n",
    "        legible_hier[cluster]['leader'] = str(leader)\n",
    "        legible_hier[cluster]['follower'] = [str(follower) for follower in followers]\n",
    "    return legible_hier"
   ]
  },
  {
   "cell_type": "code",
   "execution_count": 35,
   "metadata": {},
   "outputs": [
    {
     "data": {
      "text/plain": [
       "{0: {'follower': ['Freeman Moore - SMU Spring 2018',\n",
       "   'SMU CSE 5337/7337 Spring 2018 Schedule',\n",
       "   'building1',\n",
       "   'CSE 7337 Spring 2018 distance students exam 1 location',\n",
       "   'Porter Stemmer Online'],\n",
       "  'leader': 'building2'},\n",
       " 1: {'follower': ['This is the magic file', 'CSE 5337/7337 User-Agent'],\n",
       "  'leader': 'SMU CSE 5/7337 Spring 2018 text files\"'},\n",
       " 2: {'follower': ['Mockingbird part 5',\n",
       "   'Mockingbird part 3',\n",
       "   'Mockingbird part 2',\n",
       "   'Mockingbird novel part 1',\n",
       "   'golf3'],\n",
       "  'leader': 'Mockingbird part 4'},\n",
       " 3: {'follower': ['basketball2',\n",
       "   'football2',\n",
       "   'baseball5',\n",
       "   'basketball4',\n",
       "   'baseball4',\n",
       "   'golf5',\n",
       "   'golf1'],\n",
       "  'leader': 'SMU CSE 5/7337 Spring 2018 Textfiles'},\n",
       " 4: {'follower': ['football5',\n",
       "   'baseball1',\n",
       "   'baseball2',\n",
       "   'football3',\n",
       "   'football1',\n",
       "   'basketball5',\n",
       "   'Levenshtein Distance demo',\n",
       "   'basketball3',\n",
       "   'baseball3',\n",
       "   'basketball1',\n",
       "   'golf4',\n",
       "   'golf2'],\n",
       "  'leader': 'football4'}}"
      ]
     },
     "execution_count": 35,
     "metadata": {},
     "output_type": "execute_result"
    }
   ],
   "source": [
    "make_legible()"
   ]
  },
  {
   "cell_type": "code",
   "execution_count": 36,
   "metadata": {},
   "outputs": [],
   "source": [
    "legible = make_legible()"
   ]
  },
  {
   "cell_type": "code",
   "execution_count": 38,
   "metadata": {},
   "outputs": [],
   "source": [
    "docs = vecs.loc[:4, doc_headers[:7]]"
   ]
  },
  {
   "cell_type": "code",
   "execution_count": 39,
   "metadata": {
    "scrolled": true
   },
   "outputs": [
    {
     "data": {
      "text/html": [
       "<div>\n",
       "<style scoped>\n",
       "    .dataframe tbody tr th:only-of-type {\n",
       "        vertical-align: middle;\n",
       "    }\n",
       "\n",
       "    .dataframe tbody tr th {\n",
       "        vertical-align: top;\n",
       "    }\n",
       "\n",
       "    .dataframe thead th {\n",
       "        text-align: right;\n",
       "    }\n",
       "</style>\n",
       "<table border=\"1\" class=\"dataframe\">\n",
       "  <thead>\n",
       "    <tr style=\"text-align: right;\">\n",
       "      <th></th>\n",
       "      <th>Document 1</th>\n",
       "      <th>Document 2</th>\n",
       "      <th>Document 3</th>\n",
       "      <th>Document 4</th>\n",
       "      <th>Document 5</th>\n",
       "      <th>Document 6</th>\n",
       "      <th>Document 7</th>\n",
       "    </tr>\n",
       "  </thead>\n",
       "  <tbody>\n",
       "    <tr>\n",
       "      <th>0</th>\n",
       "      <td>0.003689</td>\n",
       "      <td>0.000000</td>\n",
       "      <td>0.0</td>\n",
       "      <td>0.0</td>\n",
       "      <td>0.0</td>\n",
       "      <td>0.0</td>\n",
       "      <td>0.0</td>\n",
       "    </tr>\n",
       "    <tr>\n",
       "      <th>1</th>\n",
       "      <td>0.003689</td>\n",
       "      <td>0.000000</td>\n",
       "      <td>0.0</td>\n",
       "      <td>0.0</td>\n",
       "      <td>0.0</td>\n",
       "      <td>0.0</td>\n",
       "      <td>0.0</td>\n",
       "    </tr>\n",
       "    <tr>\n",
       "      <th>2</th>\n",
       "      <td>0.002976</td>\n",
       "      <td>0.000332</td>\n",
       "      <td>0.0</td>\n",
       "      <td>0.0</td>\n",
       "      <td>0.0</td>\n",
       "      <td>0.0</td>\n",
       "      <td>0.0</td>\n",
       "    </tr>\n",
       "    <tr>\n",
       "      <th>3</th>\n",
       "      <td>0.003689</td>\n",
       "      <td>0.000000</td>\n",
       "      <td>0.0</td>\n",
       "      <td>0.0</td>\n",
       "      <td>0.0</td>\n",
       "      <td>0.0</td>\n",
       "      <td>0.0</td>\n",
       "    </tr>\n",
       "    <tr>\n",
       "      <th>4</th>\n",
       "      <td>0.002558</td>\n",
       "      <td>0.000285</td>\n",
       "      <td>0.0</td>\n",
       "      <td>0.0</td>\n",
       "      <td>0.0</td>\n",
       "      <td>0.0</td>\n",
       "      <td>0.0</td>\n",
       "    </tr>\n",
       "  </tbody>\n",
       "</table>\n",
       "</div>"
      ],
      "text/plain": [
       "   Document 1  Document 2  Document 3  Document 4  Document 5  Document 6  \\\n",
       "0    0.003689    0.000000         0.0         0.0         0.0         0.0   \n",
       "1    0.003689    0.000000         0.0         0.0         0.0         0.0   \n",
       "2    0.002976    0.000332         0.0         0.0         0.0         0.0   \n",
       "3    0.003689    0.000000         0.0         0.0         0.0         0.0   \n",
       "4    0.002558    0.000285         0.0         0.0         0.0         0.0   \n",
       "\n",
       "   Document 7  \n",
       "0         0.0  \n",
       "1         0.0  \n",
       "2         0.0  \n",
       "3         0.0  \n",
       "4         0.0  "
      ]
     },
     "execution_count": 39,
     "metadata": {},
     "output_type": "execute_result"
    }
   ],
   "source": [
    "docs"
   ]
  },
  {
   "cell_type": "code",
   "execution_count": 40,
   "metadata": {},
   "outputs": [],
   "source": [
    "docs.columns = list(map(lambda x: 'd'+str(x), np.arange(7)))"
   ]
  },
  {
   "cell_type": "code",
   "execution_count": 41,
   "metadata": {},
   "outputs": [],
   "source": [
    "docs['d1'] = [1, 9, 4, 7.375, 8]\n",
    "docs['d2'] = [1, 9, 4, 5.875, 8]\n",
    "docs['d3'] = [1, 8, 3, 6, 8]\n",
    "docs['d4'] = [2, 13, 9, 10.83333, 6]\n",
    "docs['d5'] = [2, 12, 2, 7.333333, 6]\n",
    "docs['d6'] = [2, 14, 4, 8.25, 8]\n",
    "docs['d7'] = [3, 8, 4, 6, 4]"
   ]
  },
  {
   "cell_type": "code",
   "execution_count": 43,
   "metadata": {},
   "outputs": [
    {
     "data": {
      "text/plain": [
       "0    1.000\n",
       "1    9.000\n",
       "2    4.000\n",
       "3    7.375\n",
       "4    8.000\n",
       "Name: d1, dtype: float64"
      ]
     },
     "execution_count": 43,
     "metadata": {},
     "output_type": "execute_result"
    }
   ],
   "source": [
    "docs['d1']"
   ]
  },
  {
   "cell_type": "code",
   "execution_count": 44,
   "metadata": {
    "scrolled": true
   },
   "outputs": [
    {
     "data": {
      "text/html": [
       "<div>\n",
       "<style scoped>\n",
       "    .dataframe tbody tr th:only-of-type {\n",
       "        vertical-align: middle;\n",
       "    }\n",
       "\n",
       "    .dataframe tbody tr th {\n",
       "        vertical-align: top;\n",
       "    }\n",
       "\n",
       "    .dataframe thead th {\n",
       "        text-align: right;\n",
       "    }\n",
       "</style>\n",
       "<table border=\"1\" class=\"dataframe\">\n",
       "  <thead>\n",
       "    <tr style=\"text-align: right;\">\n",
       "      <th></th>\n",
       "      <th>d0</th>\n",
       "      <th>d1</th>\n",
       "      <th>d2</th>\n",
       "      <th>d3</th>\n",
       "      <th>d4</th>\n",
       "      <th>d5</th>\n",
       "      <th>d6</th>\n",
       "      <th>d7</th>\n",
       "    </tr>\n",
       "  </thead>\n",
       "  <tbody>\n",
       "    <tr>\n",
       "      <th>0</th>\n",
       "      <td>0.003689</td>\n",
       "      <td>1.000</td>\n",
       "      <td>1.000</td>\n",
       "      <td>1</td>\n",
       "      <td>2.00000</td>\n",
       "      <td>2.000000</td>\n",
       "      <td>2.00</td>\n",
       "      <td>3</td>\n",
       "    </tr>\n",
       "    <tr>\n",
       "      <th>1</th>\n",
       "      <td>0.003689</td>\n",
       "      <td>9.000</td>\n",
       "      <td>9.000</td>\n",
       "      <td>8</td>\n",
       "      <td>13.00000</td>\n",
       "      <td>12.000000</td>\n",
       "      <td>14.00</td>\n",
       "      <td>8</td>\n",
       "    </tr>\n",
       "    <tr>\n",
       "      <th>2</th>\n",
       "      <td>0.002976</td>\n",
       "      <td>4.000</td>\n",
       "      <td>4.000</td>\n",
       "      <td>3</td>\n",
       "      <td>9.00000</td>\n",
       "      <td>2.000000</td>\n",
       "      <td>4.00</td>\n",
       "      <td>4</td>\n",
       "    </tr>\n",
       "    <tr>\n",
       "      <th>3</th>\n",
       "      <td>0.003689</td>\n",
       "      <td>7.375</td>\n",
       "      <td>5.875</td>\n",
       "      <td>6</td>\n",
       "      <td>10.83333</td>\n",
       "      <td>7.333333</td>\n",
       "      <td>8.25</td>\n",
       "      <td>6</td>\n",
       "    </tr>\n",
       "    <tr>\n",
       "      <th>4</th>\n",
       "      <td>0.002558</td>\n",
       "      <td>8.000</td>\n",
       "      <td>8.000</td>\n",
       "      <td>8</td>\n",
       "      <td>6.00000</td>\n",
       "      <td>6.000000</td>\n",
       "      <td>8.00</td>\n",
       "      <td>4</td>\n",
       "    </tr>\n",
       "  </tbody>\n",
       "</table>\n",
       "</div>"
      ],
      "text/plain": [
       "         d0     d1     d2  d3        d4         d5     d6  d7\n",
       "0  0.003689  1.000  1.000   1   2.00000   2.000000   2.00   3\n",
       "1  0.003689  9.000  9.000   8  13.00000  12.000000  14.00   8\n",
       "2  0.002976  4.000  4.000   3   9.00000   2.000000   4.00   4\n",
       "3  0.003689  7.375  5.875   6  10.83333   7.333333   8.25   6\n",
       "4  0.002558  8.000  8.000   8   6.00000   6.000000   8.00   4"
      ]
     },
     "execution_count": 44,
     "metadata": {},
     "output_type": "execute_result"
    }
   ],
   "source": [
    "docs"
   ]
  },
  {
   "cell_type": "code",
   "execution_count": 45,
   "metadata": {},
   "outputs": [],
   "source": [
    "knn = KNN(2)"
   ]
  },
  {
   "cell_type": "code",
   "execution_count": 46,
   "metadata": {
    "scrolled": false
   },
   "outputs": [
    {
     "data": {
      "text/plain": [
       "{0: [0], 1: [1, 2, 3, 4, 5, 6, 7]}"
      ]
     },
     "execution_count": 46,
     "metadata": {},
     "output_type": "execute_result"
    }
   ],
   "source": [
    "knn.cluster(docs.columns, docs)"
   ]
  },
  {
   "cell_type": "code",
   "execution_count": 47,
   "metadata": {},
   "outputs": [],
   "source": [
    "test_data = pd.read_csv('test_data.csv')"
   ]
  },
  {
   "cell_type": "code",
   "execution_count": 48,
   "metadata": {},
   "outputs": [],
   "source": [
    "td = test_data.iloc[:, :-1].copy()"
   ]
  },
  {
   "cell_type": "code",
   "execution_count": 49,
   "metadata": {},
   "outputs": [
    {
     "data": {
      "text/html": [
       "<div>\n",
       "<style scoped>\n",
       "    .dataframe tbody tr th:only-of-type {\n",
       "        vertical-align: middle;\n",
       "    }\n",
       "\n",
       "    .dataframe tbody tr th {\n",
       "        vertical-align: top;\n",
       "    }\n",
       "\n",
       "    .dataframe thead th {\n",
       "        text-align: right;\n",
       "    }\n",
       "</style>\n",
       "<table border=\"1\" class=\"dataframe\">\n",
       "  <thead>\n",
       "    <tr style=\"text-align: right;\">\n",
       "      <th></th>\n",
       "      <th>tf doc1</th>\n",
       "      <th>tf doc2</th>\n",
       "      <th>tf doc3</th>\n",
       "      <th>tf doc4</th>\n",
       "      <th>tf doc5</th>\n",
       "      <th>tf doc6</th>\n",
       "      <th>tf doc7</th>\n",
       "      <th>tf doc8</th>\n",
       "      <th>tf doc9</th>\n",
       "      <th>tf doc10</th>\n",
       "      <th>tf doc11</th>\n",
       "    </tr>\n",
       "  </thead>\n",
       "  <tbody>\n",
       "    <tr>\n",
       "      <th>0</th>\n",
       "      <td>1</td>\n",
       "      <td>0</td>\n",
       "      <td>0</td>\n",
       "      <td>0</td>\n",
       "      <td>0</td>\n",
       "      <td>0</td>\n",
       "      <td>0</td>\n",
       "      <td>0</td>\n",
       "      <td>0</td>\n",
       "      <td>0</td>\n",
       "      <td>0</td>\n",
       "    </tr>\n",
       "    <tr>\n",
       "      <th>1</th>\n",
       "      <td>1</td>\n",
       "      <td>0</td>\n",
       "      <td>0</td>\n",
       "      <td>0</td>\n",
       "      <td>0</td>\n",
       "      <td>1</td>\n",
       "      <td>0</td>\n",
       "      <td>0</td>\n",
       "      <td>0</td>\n",
       "      <td>0</td>\n",
       "      <td>0</td>\n",
       "    </tr>\n",
       "    <tr>\n",
       "      <th>2</th>\n",
       "      <td>1</td>\n",
       "      <td>1</td>\n",
       "      <td>0</td>\n",
       "      <td>1</td>\n",
       "      <td>0</td>\n",
       "      <td>0</td>\n",
       "      <td>0</td>\n",
       "      <td>0</td>\n",
       "      <td>0</td>\n",
       "      <td>0</td>\n",
       "      <td>0</td>\n",
       "    </tr>\n",
       "    <tr>\n",
       "      <th>3</th>\n",
       "      <td>1</td>\n",
       "      <td>0</td>\n",
       "      <td>1</td>\n",
       "      <td>0</td>\n",
       "      <td>0</td>\n",
       "      <td>0</td>\n",
       "      <td>0</td>\n",
       "      <td>0</td>\n",
       "      <td>0</td>\n",
       "      <td>0</td>\n",
       "      <td>0</td>\n",
       "    </tr>\n",
       "    <tr>\n",
       "      <th>4</th>\n",
       "      <td>0</td>\n",
       "      <td>1</td>\n",
       "      <td>1</td>\n",
       "      <td>0</td>\n",
       "      <td>0</td>\n",
       "      <td>0</td>\n",
       "      <td>0</td>\n",
       "      <td>0</td>\n",
       "      <td>0</td>\n",
       "      <td>0</td>\n",
       "      <td>0</td>\n",
       "    </tr>\n",
       "    <tr>\n",
       "      <th>5</th>\n",
       "      <td>0</td>\n",
       "      <td>1</td>\n",
       "      <td>0</td>\n",
       "      <td>0</td>\n",
       "      <td>0</td>\n",
       "      <td>0</td>\n",
       "      <td>0</td>\n",
       "      <td>0</td>\n",
       "      <td>0</td>\n",
       "      <td>0</td>\n",
       "      <td>0</td>\n",
       "    </tr>\n",
       "    <tr>\n",
       "      <th>6</th>\n",
       "      <td>0</td>\n",
       "      <td>0</td>\n",
       "      <td>1</td>\n",
       "      <td>0</td>\n",
       "      <td>0</td>\n",
       "      <td>0</td>\n",
       "      <td>0</td>\n",
       "      <td>0</td>\n",
       "      <td>0</td>\n",
       "      <td>0</td>\n",
       "      <td>0</td>\n",
       "    </tr>\n",
       "    <tr>\n",
       "      <th>7</th>\n",
       "      <td>0</td>\n",
       "      <td>0</td>\n",
       "      <td>0</td>\n",
       "      <td>1</td>\n",
       "      <td>1</td>\n",
       "      <td>0</td>\n",
       "      <td>0</td>\n",
       "      <td>0</td>\n",
       "      <td>0</td>\n",
       "      <td>0</td>\n",
       "      <td>0</td>\n",
       "    </tr>\n",
       "    <tr>\n",
       "      <th>8</th>\n",
       "      <td>0</td>\n",
       "      <td>0</td>\n",
       "      <td>0</td>\n",
       "      <td>0</td>\n",
       "      <td>1</td>\n",
       "      <td>0</td>\n",
       "      <td>0</td>\n",
       "      <td>0</td>\n",
       "      <td>0</td>\n",
       "      <td>0</td>\n",
       "      <td>0</td>\n",
       "    </tr>\n",
       "    <tr>\n",
       "      <th>9</th>\n",
       "      <td>0</td>\n",
       "      <td>0</td>\n",
       "      <td>0</td>\n",
       "      <td>0</td>\n",
       "      <td>0</td>\n",
       "      <td>1</td>\n",
       "      <td>1</td>\n",
       "      <td>0</td>\n",
       "      <td>1</td>\n",
       "      <td>1</td>\n",
       "      <td>0</td>\n",
       "    </tr>\n",
       "    <tr>\n",
       "      <th>10</th>\n",
       "      <td>0</td>\n",
       "      <td>0</td>\n",
       "      <td>0</td>\n",
       "      <td>0</td>\n",
       "      <td>0</td>\n",
       "      <td>0</td>\n",
       "      <td>1</td>\n",
       "      <td>1</td>\n",
       "      <td>1</td>\n",
       "      <td>0</td>\n",
       "      <td>0</td>\n",
       "    </tr>\n",
       "    <tr>\n",
       "      <th>11</th>\n",
       "      <td>0</td>\n",
       "      <td>0</td>\n",
       "      <td>0</td>\n",
       "      <td>0</td>\n",
       "      <td>0</td>\n",
       "      <td>0</td>\n",
       "      <td>0</td>\n",
       "      <td>1</td>\n",
       "      <td>0</td>\n",
       "      <td>0</td>\n",
       "      <td>0</td>\n",
       "    </tr>\n",
       "    <tr>\n",
       "      <th>12</th>\n",
       "      <td>0</td>\n",
       "      <td>0</td>\n",
       "      <td>0</td>\n",
       "      <td>0</td>\n",
       "      <td>0</td>\n",
       "      <td>0</td>\n",
       "      <td>0</td>\n",
       "      <td>1</td>\n",
       "      <td>0</td>\n",
       "      <td>0</td>\n",
       "      <td>0</td>\n",
       "    </tr>\n",
       "    <tr>\n",
       "      <th>13</th>\n",
       "      <td>0</td>\n",
       "      <td>0</td>\n",
       "      <td>0</td>\n",
       "      <td>0</td>\n",
       "      <td>0</td>\n",
       "      <td>0</td>\n",
       "      <td>0</td>\n",
       "      <td>0</td>\n",
       "      <td>1</td>\n",
       "      <td>0</td>\n",
       "      <td>0</td>\n",
       "    </tr>\n",
       "    <tr>\n",
       "      <th>14</th>\n",
       "      <td>0</td>\n",
       "      <td>0</td>\n",
       "      <td>0</td>\n",
       "      <td>0</td>\n",
       "      <td>0</td>\n",
       "      <td>0</td>\n",
       "      <td>0</td>\n",
       "      <td>0</td>\n",
       "      <td>0</td>\n",
       "      <td>1</td>\n",
       "      <td>1</td>\n",
       "    </tr>\n",
       "    <tr>\n",
       "      <th>15</th>\n",
       "      <td>0</td>\n",
       "      <td>0</td>\n",
       "      <td>0</td>\n",
       "      <td>0</td>\n",
       "      <td>0</td>\n",
       "      <td>0</td>\n",
       "      <td>0</td>\n",
       "      <td>0</td>\n",
       "      <td>0</td>\n",
       "      <td>1</td>\n",
       "      <td>0</td>\n",
       "    </tr>\n",
       "    <tr>\n",
       "      <th>16</th>\n",
       "      <td>0</td>\n",
       "      <td>0</td>\n",
       "      <td>0</td>\n",
       "      <td>0</td>\n",
       "      <td>0</td>\n",
       "      <td>0</td>\n",
       "      <td>0</td>\n",
       "      <td>0</td>\n",
       "      <td>0</td>\n",
       "      <td>0</td>\n",
       "      <td>1</td>\n",
       "    </tr>\n",
       "    <tr>\n",
       "      <th>17</th>\n",
       "      <td>0</td>\n",
       "      <td>0</td>\n",
       "      <td>0</td>\n",
       "      <td>0</td>\n",
       "      <td>0</td>\n",
       "      <td>0</td>\n",
       "      <td>0</td>\n",
       "      <td>0</td>\n",
       "      <td>0</td>\n",
       "      <td>0</td>\n",
       "      <td>1</td>\n",
       "    </tr>\n",
       "  </tbody>\n",
       "</table>\n",
       "</div>"
      ],
      "text/plain": [
       "    tf doc1  tf doc2  tf doc3  tf doc4  tf doc5  tf doc6  tf doc7  tf doc8  \\\n",
       "0         1        0        0        0        0        0        0        0   \n",
       "1         1        0        0        0        0        1        0        0   \n",
       "2         1        1        0        1        0        0        0        0   \n",
       "3         1        0        1        0        0        0        0        0   \n",
       "4         0        1        1        0        0        0        0        0   \n",
       "5         0        1        0        0        0        0        0        0   \n",
       "6         0        0        1        0        0        0        0        0   \n",
       "7         0        0        0        1        1        0        0        0   \n",
       "8         0        0        0        0        1        0        0        0   \n",
       "9         0        0        0        0        0        1        1        0   \n",
       "10        0        0        0        0        0        0        1        1   \n",
       "11        0        0        0        0        0        0        0        1   \n",
       "12        0        0        0        0        0        0        0        1   \n",
       "13        0        0        0        0        0        0        0        0   \n",
       "14        0        0        0        0        0        0        0        0   \n",
       "15        0        0        0        0        0        0        0        0   \n",
       "16        0        0        0        0        0        0        0        0   \n",
       "17        0        0        0        0        0        0        0        0   \n",
       "\n",
       "    tf doc9  tf doc10  tf doc11  \n",
       "0         0         0         0  \n",
       "1         0         0         0  \n",
       "2         0         0         0  \n",
       "3         0         0         0  \n",
       "4         0         0         0  \n",
       "5         0         0         0  \n",
       "6         0         0         0  \n",
       "7         0         0         0  \n",
       "8         0         0         0  \n",
       "9         1         1         0  \n",
       "10        1         0         0  \n",
       "11        0         0         0  \n",
       "12        0         0         0  \n",
       "13        1         0         0  \n",
       "14        0         1         1  \n",
       "15        0         1         0  \n",
       "16        0         0         1  \n",
       "17        0         0         1  "
      ]
     },
     "execution_count": 49,
     "metadata": {},
     "output_type": "execute_result"
    }
   ],
   "source": [
    "td"
   ]
  },
  {
   "cell_type": "code",
   "execution_count": 50,
   "metadata": {},
   "outputs": [],
   "source": [
    "knn_test = KNN(2)"
   ]
  },
  {
   "cell_type": "code",
   "execution_count": 51,
   "metadata": {},
   "outputs": [
    {
     "data": {
      "text/plain": [
       "{0: [0, 1, 2, 3], 1: [4, 5, 6, 7, 8, 9, 10]}"
      ]
     },
     "execution_count": 51,
     "metadata": {},
     "output_type": "execute_result"
    }
   ],
   "source": [
    "knn_test.cluster(td.columns, td)"
   ]
  },
  {
   "cell_type": "code",
   "execution_count": 53,
   "metadata": {},
   "outputs": [],
   "source": [
    "chier = knn.cluster_hierarchy()"
   ]
  },
  {
   "cell_type": "code",
   "execution_count": 83,
   "metadata": {},
   "outputs": [],
   "source": [
    "scores = dict()\n",
    "for cluster in chier:\n",
    "    scores[cluster] = list()\n",
    "    followers_idx = chier[cluster]['followers']\n",
    "    leader_idx = chier[cluster]['leader']\n",
    "    def get_doc_by_id(id):\n",
    "        header = doc_headers[id]\n",
    "        return df[header].copy()\n",
    "    for i in range(len(followers_idx)):\n",
    "        vec_sub = get_doc_by_id(leader_idx) - get_doc_by_id(followers_idx[i])\n",
    "        score = np.sqrt(np.sum(vec_sub**2))\n",
    "        scores[cluster].append(score)"
   ]
  },
  {
   "cell_type": "code",
   "execution_count": 84,
   "metadata": {},
   "outputs": [
    {
     "data": {
      "text/plain": [
       "{0: [],\n",
       " 1: [0.04714280508689833,\n",
       "  0.04663348760679046,\n",
       "  0.04741592493844627,\n",
       "  0.20003664307438732,\n",
       "  0.20003664307438732,\n",
       "  0.09575834286466348]}"
      ]
     },
     "execution_count": 84,
     "metadata": {},
     "output_type": "execute_result"
    }
   ],
   "source": [
    "scores"
   ]
  },
  {
   "cell_type": "code",
   "execution_count": 81,
   "metadata": {},
   "outputs": [
    {
     "data": {
      "text/plain": [
       "[0.04714280508689833,\n",
       " 0.04663348760679046,\n",
       " 0.04741592493844627,\n",
       " 0.20003664307438732,\n",
       " 0.20003664307438732,\n",
       " 0.09575834286466348]"
      ]
     },
     "execution_count": 81,
     "metadata": {},
     "output_type": "execute_result"
    }
   ],
   "source": [
    "scores"
   ]
  },
  {
   "cell_type": "code",
   "execution_count": 54,
   "metadata": {},
   "outputs": [],
   "source": [
    "followers_idx = chier[1]['followers']"
   ]
  },
  {
   "cell_type": "code",
   "execution_count": 55,
   "metadata": {
    "scrolled": true
   },
   "outputs": [
    {
     "data": {
      "text/plain": [
       "[2, 3, 4, 5, 6, 7]"
      ]
     },
     "execution_count": 55,
     "metadata": {},
     "output_type": "execute_result"
    }
   ],
   "source": [
    "followers_idx"
   ]
  },
  {
   "cell_type": "code",
   "execution_count": 59,
   "metadata": {},
   "outputs": [],
   "source": [
    "def get_doc_by_id(id):\n",
    "    header = doc_headers[id]\n",
    "    return df[header].copy()"
   ]
  },
  {
   "cell_type": "code",
   "execution_count": 65,
   "metadata": {},
   "outputs": [],
   "source": [
    "fols = list(map(get_doc_by_id, followers_idx))"
   ]
  }
 ],
 "metadata": {
  "kernelspec": {
   "display_name": "Python 3",
   "language": "python",
   "name": "python3"
  },
  "language_info": {
   "codemirror_mode": {
    "name": "ipython",
    "version": 3
   },
   "file_extension": ".py",
   "mimetype": "text/x-python",
   "name": "python",
   "nbconvert_exporter": "python",
   "pygments_lexer": "ipython3",
   "version": "3.6.4"
  }
 },
 "nbformat": 4,
 "nbformat_minor": 2
}
